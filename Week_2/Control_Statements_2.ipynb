{
 "cells": [
  {
   "cell_type": "markdown",
   "id": "96f6095d",
   "metadata": {},
   "source": [
    "## Control Statements - 2"
   ]
  },
  {
   "cell_type": "markdown",
   "id": "42886d4e",
   "metadata": {},
   "source": [
    "## Q1. positive or negative"
   ]
  },
  {
   "cell_type": "code",
   "execution_count": 1,
   "id": "87126c90",
   "metadata": {},
   "outputs": [
    {
     "name": "stdout",
     "output_type": "stream",
     "text": [
      "-5\n"
     ]
    }
   ],
   "source": [
    "N = int(input())"
   ]
  },
  {
   "cell_type": "code",
   "execution_count": 2,
   "id": "a6f1b737",
   "metadata": {},
   "outputs": [
    {
     "name": "stdout",
     "output_type": "stream",
     "text": [
      "Negative\n"
     ]
    }
   ],
   "source": [
    "if N >= 0:\n",
    "    print('Positive')\n",
    "else:\n",
    "    print('Negative')"
   ]
  },
  {
   "cell_type": "markdown",
   "id": "4fd329de",
   "metadata": {},
   "source": [
    "## Q2. check zero, negative or positive"
   ]
  },
  {
   "cell_type": "code",
   "execution_count": 10,
   "id": "10e19ff3",
   "metadata": {},
   "outputs": [
    {
     "name": "stdout",
     "output_type": "stream",
     "text": [
      "0\n"
     ]
    }
   ],
   "source": [
    "N = int(input())"
   ]
  },
  {
   "cell_type": "code",
   "execution_count": 11,
   "id": "5805634d",
   "metadata": {},
   "outputs": [
    {
     "name": "stdout",
     "output_type": "stream",
     "text": [
      "Zero\n"
     ]
    }
   ],
   "source": [
    "if N >= 0:\n",
    "    if N == 0:\n",
    "        print('Zero')\n",
    "    else:\n",
    "        print('Positive')\n",
    "else:\n",
    "    print('Negative')\n",
    "    \n",
    "# no of conditions checked depends on the input"
   ]
  },
  {
   "cell_type": "code",
   "execution_count": 12,
   "id": "b11e4caf",
   "metadata": {},
   "outputs": [
    {
     "name": "stdout",
     "output_type": "stream",
     "text": [
      "Negative\n"
     ]
    }
   ],
   "source": [
    "N = -7\n",
    "\n",
    "# always check 3 conditions one by one\n",
    "if N == 0:\n",
    "    print('Zero')\n",
    "if N < 0:\n",
    "    print('Negative')\n",
    "if N > 0:\n",
    "    print('Positive')"
   ]
  },
  {
   "cell_type": "markdown",
   "id": "cc5092c3",
   "metadata": {},
   "source": [
    "## Move all nesting to else block"
   ]
  },
  {
   "cell_type": "code",
   "execution_count": 14,
   "id": "13217521",
   "metadata": {},
   "outputs": [
    {
     "name": "stdout",
     "output_type": "stream",
     "text": [
      "7\n",
      "Positive\n"
     ]
    }
   ],
   "source": [
    "N = int(input())\n",
    "if N == 0:\n",
    "    print('Zero')\n",
    "else:\n",
    "    if N > 0:\n",
    "        print('Positive')\n",
    "    else:\n",
    "        print('Negative')"
   ]
  },
  {
   "cell_type": "markdown",
   "id": "24ae733d",
   "metadata": {},
   "source": [
    "## if elif else syntax"
   ]
  },
  {
   "cell_type": "code",
   "execution_count": 17,
   "id": "5d7fb2c4",
   "metadata": {},
   "outputs": [
    {
     "name": "stdout",
     "output_type": "stream",
     "text": [
      "24\n",
      "Positive\n"
     ]
    }
   ],
   "source": [
    "N = int(input())\n",
    "\n",
    "if N == 0:\n",
    "    print('Zero')\n",
    "elif N > 0:\n",
    "    print('Positive')\n",
    "else:\n",
    "    print('Negative')"
   ]
  },
  {
   "cell_type": "markdown",
   "id": "ff52883c",
   "metadata": {},
   "source": [
    "## Greeting user"
   ]
  },
  {
   "cell_type": "code",
   "execution_count": 19,
   "id": "4cf973cd",
   "metadata": {},
   "outputs": [
    {
     "name": "stdout",
     "output_type": "stream",
     "text": [
      "12\n",
      "Good morning!\n",
      "Good afternoon\n"
     ]
    }
   ],
   "source": [
    "time = int(input())\n",
    "\n",
    "if time >= 7 and time <= 12:\n",
    "    print('Good morning!')\n",
    "\n",
    "if time >= 12 and time <= 17:\n",
    "    print('Good afternoon')\n",
    "\n",
    "if time >= 17 and time <= 22:\n",
    "    print('Good evening!')\n",
    "\n",
    "if time >= 22 and time <= 24:\n",
    "    print('Good night!')\n",
    "    \n",
    "if time >= 0 and time <= 6:\n",
    "    print('SO JAO!')"
   ]
  },
  {
   "cell_type": "code",
   "execution_count": 25,
   "id": "8770b4aa",
   "metadata": {},
   "outputs": [
    {
     "name": "stdout",
     "output_type": "stream",
     "text": [
      "22\n",
      "Good evening!\n"
     ]
    }
   ],
   "source": [
    "time = int(input())\n",
    "\n",
    "if time >= 7 and time <= 12:\n",
    "    print('Good morning!')\n",
    "elif time >= 12 and time <= 17:\n",
    "    print('Good afternoon')\n",
    "elif time >= 17 and time <= 22:\n",
    "    print('Good evening!')\n",
    "elif time >= 22 and time <= 24:\n",
    "    print('Good night!')\n",
    "elif time >= 0 and time <= 6:\n",
    "    print('SO JAO!')"
   ]
  },
  {
   "cell_type": "markdown",
   "id": "19bab227",
   "metadata": {},
   "source": [
    "## Quizzes"
   ]
  },
  {
   "cell_type": "markdown",
   "id": "b029692e",
   "metadata": {},
   "source": [
    "## Question 3 - Fizz Buzz"
   ]
  },
  {
   "cell_type": "code",
   "execution_count": 26,
   "id": "4833f506",
   "metadata": {},
   "outputs": [
    {
     "name": "stdout",
     "output_type": "stream",
     "text": [
      "30\n",
      "FizzBuzz\n"
     ]
    }
   ],
   "source": [
    "N = int(input())\n",
    "if N % 3 == 0 and N % 5 == 0:\n",
    "    print('FizzBuzz')\n",
    "elif N % 3 == 0:\n",
    "    print('Fizz')\n",
    "elif N % 5 == 0:\n",
    "    print('Buzz')"
   ]
  },
  {
   "cell_type": "markdown",
   "id": "0e087478",
   "metadata": {},
   "source": [
    "## Question 4: If else nested"
   ]
  },
  {
   "cell_type": "markdown",
   "id": "6956892a",
   "metadata": {},
   "source": [
    "Given an integer N, perform the following conditional actions:\n",
    "- If N is odd, print Weird\n",
    "- If N is even and in the inclusive range of 2 to 5, print Not Weird\n",
    "- If N is even and in the inclusive range of 6 to 20, print Weird\n",
    "- If N is even and greater than 20, print Not Weird"
   ]
  },
  {
   "cell_type": "code",
   "execution_count": 28,
   "id": "37383ece",
   "metadata": {},
   "outputs": [
    {
     "name": "stdout",
     "output_type": "stream",
     "text": [
      "Not Weird\n"
     ]
    }
   ],
   "source": [
    "N = 4\n",
    "\n",
    "if N % 2 != 0: # not divisible by 2 => odd\n",
    "    print('Weird')\n",
    "elif N >= 2 and N <= 5:\n",
    "    print('Not Weird')\n",
    "elif N >= 6 and N <= 20:\n",
    "    print('Weird')\n",
    "elif N > 20:\n",
    "    print('Not Weird')"
   ]
  },
  {
   "cell_type": "markdown",
   "id": "9d4ff4de",
   "metadata": {},
   "source": [
    "Given an integer N, perform the following conditional actions:\n",
    "- If N is odd and in the inclusive range of 2 to 5, print Weird\n",
    "- If N is even and in the inclusive range of 2 to 5, print Not Weird\n",
    "- If N is odd and greater than or equal to 6, print Weird\n",
    "- If N is even and greater than or equal to 6, print Not Weird"
   ]
  },
  {
   "cell_type": "code",
   "execution_count": 30,
   "id": "a203d66a",
   "metadata": {},
   "outputs": [
    {
     "name": "stdout",
     "output_type": "stream",
     "text": [
      "7\n",
      "Not weird\n"
     ]
    }
   ],
   "source": [
    "N = int(input())\n",
    "if N % 2 == 1: # odd\n",
    "    if N >= 2 and N <= 5:\n",
    "        print('Weird')\n",
    "    elif N >= 6:\n",
    "        print('Not weird')\n",
    "else: # even\n",
    "    if N >= 2 and N <= 5:\n",
    "        print('Not weird')\n",
    "    else:\n",
    "        print('Weird')"
   ]
  },
  {
   "cell_type": "markdown",
   "id": "eefe4d25",
   "metadata": {},
   "source": [
    "## Q5: Favorite Programming Language"
   ]
  },
  {
   "cell_type": "code",
   "execution_count": 32,
   "id": "9ba62d3e",
   "metadata": {},
   "outputs": [
    {
     "name": "stdout",
     "output_type": "stream",
     "text": [
      "Python\n",
      "Wow\n"
     ]
    }
   ],
   "source": [
    "lang = input()\n",
    "\n",
    "if lang == \"Python\":\n",
    "    print('Wow')\n",
    "elif lang == \"JavaScript\":\n",
    "    print('Cool')\n",
    "elif lang == \"C\":\n",
    "    print('Super')\n",
    "else:\n",
    "    print('Are you living under a rock?')"
   ]
  },
  {
   "cell_type": "markdown",
   "id": "d96cd5cc",
   "metadata": {},
   "source": [
    "## Homeworks"
   ]
  },
  {
   "cell_type": "markdown",
   "id": "a572abeb",
   "metadata": {},
   "source": [
    "![img](https://upload.wikimedia.org/wikipedia/commons/5/52/Leap_Year_Algorithm.png)"
   ]
  },
  {
   "cell_type": "markdown",
   "id": "95d3b0e6",
   "metadata": {},
   "source": [
    "## Stream Selection"
   ]
  },
  {
   "cell_type": "markdown",
   "id": "ce02929c",
   "metadata": {},
   "source": [
    "Take in three inputs from a user which are marks in english, maths and science.\n",
    "\n",
    "Assign streams according to the following criteria\n",
    "- if science > 90 or marks in all are greater than 75 -> Science\n",
    "- if marks in all are greater than 60 and less than 75 -> Commerce\n",
    "- if marks in all are less than 60 -> Humanities"
   ]
  }
 ],
 "metadata": {
  "kernelspec": {
   "display_name": "Python 3 (ipykernel)",
   "language": "python",
   "name": "python3"
  },
  "language_info": {
   "codemirror_mode": {
    "name": "ipython",
    "version": 3
   },
   "file_extension": ".py",
   "mimetype": "text/x-python",
   "name": "python",
   "nbconvert_exporter": "python",
   "pygments_lexer": "ipython3",
   "version": "3.9.12"
  }
 },
 "nbformat": 4,
 "nbformat_minor": 5
}
