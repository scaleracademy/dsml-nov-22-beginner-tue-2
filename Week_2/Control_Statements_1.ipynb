{
 "cells": [
  {
   "cell_type": "markdown",
   "id": "7e50512d",
   "metadata": {},
   "source": [
    "## Control Statements 1"
   ]
  },
  {
   "cell_type": "code",
   "execution_count": 4,
   "id": "f284aa08",
   "metadata": {},
   "outputs": [
    {
     "data": {
      "text/plain": [
       "1"
      ]
     },
     "execution_count": 4,
     "metadata": {},
     "output_type": "execute_result"
    }
   ],
   "source": [
    "1 + (5 == 6)"
   ]
  },
  {
   "cell_type": "code",
   "execution_count": 5,
   "id": "95bd7f06",
   "metadata": {},
   "outputs": [
    {
     "data": {
      "text/plain": [
       "True"
      ]
     },
     "execution_count": 5,
     "metadata": {},
     "output_type": "execute_result"
    }
   ],
   "source": [
    "(1 + 5) == 6"
   ]
  },
  {
   "cell_type": "code",
   "execution_count": 7,
   "id": "691dfaa1",
   "metadata": {},
   "outputs": [
    {
     "data": {
      "text/plain": [
       "True"
      ]
     },
     "execution_count": 7,
     "metadata": {},
     "output_type": "execute_result"
    }
   ],
   "source": [
    "1 + 5 == 6 # 2"
   ]
  },
  {
   "cell_type": "code",
   "execution_count": 8,
   "id": "6b82e7da",
   "metadata": {},
   "outputs": [
    {
     "data": {
      "text/plain": [
       "0"
      ]
     },
     "execution_count": 8,
     "metadata": {},
     "output_type": "execute_result"
    }
   ],
   "source": [
    "int(False)"
   ]
  },
  {
   "cell_type": "code",
   "execution_count": 9,
   "id": "ac14dad5",
   "metadata": {},
   "outputs": [
    {
     "data": {
      "text/plain": [
       "1"
      ]
     },
     "execution_count": 9,
     "metadata": {},
     "output_type": "execute_result"
    }
   ],
   "source": [
    "int(True)"
   ]
  },
  {
   "cell_type": "markdown",
   "id": "410da687",
   "metadata": {},
   "source": [
    "## Password matching"
   ]
  },
  {
   "cell_type": "code",
   "execution_count": 12,
   "id": "003b2eae",
   "metadata": {},
   "outputs": [
    {
     "name": "stdout",
     "output_type": "stream",
     "text": [
      "Please enter your password: 1234abc\n"
     ]
    }
   ],
   "source": [
    "actual_password = 'abc123$@'\n",
    "\n",
    "pass1 = input(\"Please enter your password: \")"
   ]
  },
  {
   "cell_type": "code",
   "execution_count": 18,
   "id": "7211464a",
   "metadata": {},
   "outputs": [
    {
     "data": {
      "text/plain": [
       "False"
      ]
     },
     "execution_count": 18,
     "metadata": {},
     "output_type": "execute_result"
    }
   ],
   "source": [
    "actual_password == pass1 # show error msg"
   ]
  },
  {
   "cell_type": "code",
   "execution_count": 20,
   "id": "b9a57d9b",
   "metadata": {},
   "outputs": [
    {
     "name": "stdout",
     "output_type": "stream",
     "text": [
      "Please enter your password: abc123$@\n"
     ]
    }
   ],
   "source": [
    "actual_password = 'abc123$@'\n",
    "\n",
    "pass1 = input(\"Please enter your password: \")"
   ]
  },
  {
   "cell_type": "code",
   "execution_count": 21,
   "id": "5dc9c3e7",
   "metadata": {},
   "outputs": [
    {
     "data": {
      "text/plain": [
       "True"
      ]
     },
     "execution_count": 21,
     "metadata": {},
     "output_type": "execute_result"
    }
   ],
   "source": [
    "actual_password == pass1 # login me to the website"
   ]
  },
  {
   "cell_type": "markdown",
   "id": "6f955e5e",
   "metadata": {},
   "source": [
    "## if else examples"
   ]
  },
  {
   "cell_type": "code",
   "execution_count": 22,
   "id": "36522f25",
   "metadata": {},
   "outputs": [
    {
     "name": "stdout",
     "output_type": "stream",
     "text": [
      "Yes! 2 + 2 is 4\n"
     ]
    }
   ],
   "source": [
    "if (2 + 2 == 4):\n",
    "    print('Yes! 2 + 2 is 4')"
   ]
  },
  {
   "cell_type": "code",
   "execution_count": 23,
   "id": "427f8819",
   "metadata": {},
   "outputs": [],
   "source": [
    "if (2 + 2 == 5):\n",
    "    print(\"Is this the mirror universe?\")"
   ]
  },
  {
   "cell_type": "code",
   "execution_count": 24,
   "id": "2f8fa64c",
   "metadata": {},
   "outputs": [
    {
     "name": "stdout",
     "output_type": "stream",
     "text": [
      "Sorry Sir! 2 + 2 is 4!!\n"
     ]
    }
   ],
   "source": [
    "if (2 + 2 == 5):\n",
    "    print(\"Is this the mirror universe?\")\n",
    "else:\n",
    "    print('Sorry Sir! 2 + 2 is 4!!')"
   ]
  },
  {
   "cell_type": "markdown",
   "id": "a70dcbe6",
   "metadata": {},
   "source": [
    "## Examination results day"
   ]
  },
  {
   "cell_type": "code",
   "execution_count": 42,
   "id": "8a3e8819",
   "metadata": {},
   "outputs": [],
   "source": [
    "grade = 90\n",
    "\n",
    "# passing grade = 70"
   ]
  },
  {
   "cell_type": "code",
   "execution_count": 43,
   "id": "ed611d50",
   "metadata": {},
   "outputs": [
    {
     "name": "stdout",
     "output_type": "stream",
     "text": [
      "Hurray! You passed the class!\n",
      "Thank you for your efforts\n"
     ]
    }
   ],
   "source": [
    "if grade >= 70:\n",
    "    print(\"Hurray! You passed the class!\")\n",
    "else:\n",
    "    print(\"Ohh no! Please Pass next time!\")\n",
    "print('Thank you for your efforts')"
   ]
  },
  {
   "cell_type": "markdown",
   "id": "9b7569f2",
   "metadata": {},
   "source": [
    "## Password checker using if else"
   ]
  },
  {
   "cell_type": "code",
   "execution_count": 45,
   "id": "2dcbd2f0",
   "metadata": {},
   "outputs": [
    {
     "name": "stdout",
     "output_type": "stream",
     "text": [
      "abc1234$@\n",
      "Login successful\n"
     ]
    }
   ],
   "source": [
    "actual_pass = 'abc1234$@'\n",
    "\n",
    "password = input()\n",
    "\n",
    "if password == actual_pass:\n",
    "    print('Login successful')\n",
    "else:\n",
    "    print('Wrong password! Please try again!')"
   ]
  },
  {
   "cell_type": "markdown",
   "id": "0bc8021f",
   "metadata": {},
   "source": [
    "## Score validator"
   ]
  },
  {
   "cell_type": "code",
   "execution_count": 47,
   "id": "05aecb55",
   "metadata": {},
   "outputs": [
    {
     "name": "stdout",
     "output_type": "stream",
     "text": [
      "29\n",
      "57\n",
      "Marks are valid!\n"
     ]
    }
   ],
   "source": [
    "theory = int(input())\n",
    "practical = int(input())\n",
    "\n",
    "if theory <= 30 and practical <= 70:\n",
    "    print('Marks are valid!')\n",
    "else:\n",
    "    print('Marks are not correct! Please recheck')"
   ]
  },
  {
   "cell_type": "markdown",
   "id": "26618d87",
   "metadata": {},
   "source": [
    "## Maximum marks"
   ]
  },
  {
   "cell_type": "code",
   "execution_count": 51,
   "id": "aaf1371c",
   "metadata": {},
   "outputs": [
    {
     "name": "stdout",
     "output_type": "stream",
     "text": [
      "56\n",
      "70\n",
      "m2 is the maximum!\n",
      "Marks scored are: 70\n"
     ]
    }
   ],
   "source": [
    "m1 = int(input())\n",
    "m2 = int(input())\n",
    "\n",
    "if m1 > m2:\n",
    "    print('m1 is the maximum!')\n",
    "    print('Marks scored are:', m1)\n",
    "else:\n",
    "    print('m2 is the maximum!')\n",
    "    print('Marks scored are:', m2)"
   ]
  },
  {
   "cell_type": "markdown",
   "id": "2a23fdcf",
   "metadata": {},
   "source": [
    "## Challenge"
   ]
  },
  {
   "cell_type": "markdown",
   "id": "f81fa90a",
   "metadata": {},
   "source": [
    "Write a program to check if the person is eligible to join the Indian Airforce based on their heights.\n",
    "\n",
    "Minimum height required to shortlist the Indian Airfoce is 162 cm."
   ]
  },
  {
   "cell_type": "code",
   "execution_count": 57,
   "id": "f84e0f90",
   "metadata": {},
   "outputs": [
    {
     "name": "stdout",
     "output_type": "stream",
     "text": [
      "165\n",
      "You are eligible\n"
     ]
    }
   ],
   "source": [
    "height = int(input())\n",
    "\n",
    "if height >= 162:\n",
    "    print('You are eligible')\n",
    "else:\n",
    "    print('You are not eligible')"
   ]
  },
  {
   "cell_type": "markdown",
   "id": "f3047e65",
   "metadata": {},
   "source": [
    "## Leap year"
   ]
  },
  {
   "cell_type": "code",
   "execution_count": 58,
   "id": "66ef70e0",
   "metadata": {},
   "outputs": [
    {
     "name": "stdout",
     "output_type": "stream",
     "text": [
      "0\n"
     ]
    }
   ],
   "source": [
    "n = 1712\n",
    "\n",
    "print(n % 4)"
   ]
  },
  {
   "cell_type": "code",
   "execution_count": 62,
   "id": "9b5764c6",
   "metadata": {},
   "outputs": [
    {
     "name": "stdout",
     "output_type": "stream",
     "text": [
      "1800\n",
      "Leap year\n"
     ]
    }
   ],
   "source": [
    "y = int(input())\n",
    "\n",
    "if y % 4 == 0:\n",
    "    print('Leap year')\n",
    "else:\n",
    "    print('Not a leap year')\n",
    "    \n",
    "# incorrect, 1800 is not leap"
   ]
  },
  {
   "cell_type": "markdown",
   "id": "b1561dcf",
   "metadata": {},
   "source": [
    "## Nested if else"
   ]
  },
  {
   "cell_type": "code",
   "execution_count": 63,
   "id": "9736f538",
   "metadata": {},
   "outputs": [
    {
     "name": "stdout",
     "output_type": "stream",
     "text": [
      "Yeah both are true\n"
     ]
    }
   ],
   "source": [
    "if 2 + 2 == 4:\n",
    "    if 2 + 3 == 5: # nested if else\n",
    "        print('Yeah both are true')\n",
    "    else:\n",
    "        print('Only 1 is true')\n"
   ]
  },
  {
   "cell_type": "markdown",
   "id": "79dc5737",
   "metadata": {},
   "source": [
    "## Correct Leap year code"
   ]
  },
  {
   "cell_type": "markdown",
   "id": "555a76d7",
   "metadata": {},
   "source": [
    "![img](https://upload.wikimedia.org/wikipedia/commons/5/52/Leap_Year_Algorithm.png)"
   ]
  },
  {
   "cell_type": "code",
   "execution_count": 70,
   "id": "9887a77a",
   "metadata": {},
   "outputs": [
    {
     "name": "stdout",
     "output_type": "stream",
     "text": [
      "1800\n",
      "Not leap year!\n"
     ]
    }
   ],
   "source": [
    "y = int(input())\n",
    "if y % 4 == 0:\n",
    "    if y % 100 == 0:\n",
    "        if y % 400 == 0:\n",
    "            print('Leap year!')\n",
    "        else:\n",
    "            print('Not leap year!')\n",
    "    else:\n",
    "        print('Leap year')\n",
    "else:\n",
    "    print('Not leap year')"
   ]
  },
  {
   "cell_type": "code",
   "execution_count": null,
   "id": "863173ea",
   "metadata": {},
   "outputs": [],
   "source": [
    "# if else if => next class"
   ]
  },
  {
   "cell_type": "markdown",
   "id": "19564bb1",
   "metadata": {},
   "source": [
    "## Quizzes"
   ]
  },
  {
   "cell_type": "code",
   "execution_count": 71,
   "id": "dbc21007",
   "metadata": {},
   "outputs": [
    {
     "name": "stdout",
     "output_type": "stream",
     "text": [
      "7\n"
     ]
    }
   ],
   "source": [
    "x = 5\n",
    "\n",
    "if x == 5:\n",
    "    x = 7\n",
    "\n",
    "print(x)"
   ]
  },
  {
   "cell_type": "code",
   "execution_count": 72,
   "id": "cfc5d65c",
   "metadata": {},
   "outputs": [],
   "source": [
    "a = 4\n",
    "b = -5\n",
    "if a > 0:\n",
    "    if b < 0:\n",
    "        a = a - 2 \n",
    "    else:\n",
    "        a = a + 3\n",
    "else:\n",
    "    b = b + 2"
   ]
  },
  {
   "cell_type": "code",
   "execution_count": 73,
   "id": "bee6f2bf",
   "metadata": {},
   "outputs": [
    {
     "name": "stdout",
     "output_type": "stream",
     "text": [
      "2\n"
     ]
    }
   ],
   "source": [
    "print(a)"
   ]
  },
  {
   "cell_type": "code",
   "execution_count": 74,
   "id": "fcbba183",
   "metadata": {},
   "outputs": [
    {
     "name": "stdout",
     "output_type": "stream",
     "text": [
      "2\n"
     ]
    }
   ],
   "source": [
    "x = 5\n",
    "if x < 5 or x > -1:\n",
    "    x = x - 3\n",
    "else:\n",
    "    x = x - 3\n",
    "\n",
    "print(x)"
   ]
  },
  {
   "cell_type": "code",
   "execution_count": 75,
   "id": "19ae6e44",
   "metadata": {},
   "outputs": [
    {
     "name": "stdout",
     "output_type": "stream",
     "text": [
      "True\n"
     ]
    }
   ],
   "source": [
    "a = 12\n",
    "b = 5\n",
    "\n",
    "if a+b > 0:\n",
    "    print('True')\n",
    "else:\n",
    "    print('False')"
   ]
  },
  {
   "cell_type": "code",
   "execution_count": null,
   "id": "2e32a97e",
   "metadata": {},
   "outputs": [],
   "source": []
  }
 ],
 "metadata": {
  "kernelspec": {
   "display_name": "Python 3 (ipykernel)",
   "language": "python",
   "name": "python3"
  },
  "language_info": {
   "codemirror_mode": {
    "name": "ipython",
    "version": 3
   },
   "file_extension": ".py",
   "mimetype": "text/x-python",
   "name": "python",
   "nbconvert_exporter": "python",
   "pygments_lexer": "ipython3",
   "version": "3.9.12"
  }
 },
 "nbformat": 4,
 "nbformat_minor": 5
}
