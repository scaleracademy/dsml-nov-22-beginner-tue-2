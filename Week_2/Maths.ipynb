{
 "cells": [
  {
   "cell_type": "markdown",
   "id": "0f749a05",
   "metadata": {},
   "source": [
    "## Maths"
   ]
  },
  {
   "cell_type": "markdown",
   "id": "3aa28950",
   "metadata": {},
   "source": [
    "## Ranges"
   ]
  },
  {
   "cell_type": "code",
   "execution_count": 1,
   "id": "8753d012",
   "metadata": {},
   "outputs": [
    {
     "data": {
      "text/plain": [
       "range(2, 8)"
      ]
     },
     "execution_count": 1,
     "metadata": {},
     "output_type": "execute_result"
    }
   ],
   "source": [
    "range(2, 8)"
   ]
  },
  {
   "cell_type": "code",
   "execution_count": 2,
   "id": "42a666ca",
   "metadata": {},
   "outputs": [
    {
     "data": {
      "text/plain": [
       "[2, 3, 4, 5, 6, 7]"
      ]
     },
     "execution_count": 2,
     "metadata": {},
     "output_type": "execute_result"
    }
   ],
   "source": [
    "list(range(2, 8)) # 8 - 2 = 6"
   ]
  },
  {
   "cell_type": "code",
   "execution_count": 3,
   "id": "e001071b",
   "metadata": {},
   "outputs": [
    {
     "data": {
      "text/plain": [
       "[1, 2, 3, 4, 5, 6, 7, 8, 9]"
      ]
     },
     "execution_count": 3,
     "metadata": {},
     "output_type": "execute_result"
    }
   ],
   "source": [
    "list(range(1, 10)) # 10 - 1 = 9"
   ]
  },
  {
   "cell_type": "code",
   "execution_count": 4,
   "id": "79796c3f",
   "metadata": {},
   "outputs": [
    {
     "data": {
      "text/plain": [
       "[22, 23, 24]"
      ]
     },
     "execution_count": 4,
     "metadata": {},
     "output_type": "execute_result"
    }
   ],
   "source": [
    "list(range(22, 25)) # 25 - 22 = 3"
   ]
  },
  {
   "cell_type": "markdown",
   "id": "e16046c7",
   "metadata": {},
   "source": [
    "## Sum of 1 to 100"
   ]
  },
  {
   "cell_type": "code",
   "execution_count": 5,
   "id": "e83f1238",
   "metadata": {},
   "outputs": [
    {
     "data": {
      "text/plain": [
       "[1,\n",
       " 2,\n",
       " 3,\n",
       " 4,\n",
       " 5,\n",
       " 6,\n",
       " 7,\n",
       " 8,\n",
       " 9,\n",
       " 10,\n",
       " 11,\n",
       " 12,\n",
       " 13,\n",
       " 14,\n",
       " 15,\n",
       " 16,\n",
       " 17,\n",
       " 18,\n",
       " 19,\n",
       " 20,\n",
       " 21,\n",
       " 22,\n",
       " 23,\n",
       " 24,\n",
       " 25,\n",
       " 26,\n",
       " 27,\n",
       " 28,\n",
       " 29,\n",
       " 30,\n",
       " 31,\n",
       " 32,\n",
       " 33,\n",
       " 34,\n",
       " 35,\n",
       " 36,\n",
       " 37,\n",
       " 38,\n",
       " 39,\n",
       " 40,\n",
       " 41,\n",
       " 42,\n",
       " 43,\n",
       " 44,\n",
       " 45,\n",
       " 46,\n",
       " 47,\n",
       " 48,\n",
       " 49,\n",
       " 50,\n",
       " 51,\n",
       " 52,\n",
       " 53,\n",
       " 54,\n",
       " 55,\n",
       " 56,\n",
       " 57,\n",
       " 58,\n",
       " 59,\n",
       " 60,\n",
       " 61,\n",
       " 62,\n",
       " 63,\n",
       " 64,\n",
       " 65,\n",
       " 66,\n",
       " 67,\n",
       " 68,\n",
       " 69,\n",
       " 70,\n",
       " 71,\n",
       " 72,\n",
       " 73,\n",
       " 74,\n",
       " 75,\n",
       " 76,\n",
       " 77,\n",
       " 78,\n",
       " 79,\n",
       " 80,\n",
       " 81,\n",
       " 82,\n",
       " 83,\n",
       " 84,\n",
       " 85,\n",
       " 86,\n",
       " 87,\n",
       " 88,\n",
       " 89,\n",
       " 90,\n",
       " 91,\n",
       " 92,\n",
       " 93,\n",
       " 94,\n",
       " 95,\n",
       " 96,\n",
       " 97,\n",
       " 98,\n",
       " 99,\n",
       " 100]"
      ]
     },
     "execution_count": 5,
     "metadata": {},
     "output_type": "execute_result"
    }
   ],
   "source": [
    "list(range(1, 101))"
   ]
  },
  {
   "cell_type": "code",
   "execution_count": 6,
   "id": "9c775716",
   "metadata": {},
   "outputs": [
    {
     "data": {
      "text/plain": [
       "5050"
      ]
     },
     "execution_count": 6,
     "metadata": {},
     "output_type": "execute_result"
    }
   ],
   "source": [
    "sum(list(range(1, 101)))"
   ]
  },
  {
   "cell_type": "code",
   "execution_count": 7,
   "id": "e6e8e6e5",
   "metadata": {},
   "outputs": [
    {
     "data": {
      "text/plain": [
       "100"
      ]
     },
     "execution_count": 7,
     "metadata": {},
     "output_type": "execute_result"
    }
   ],
   "source": [
    "len(list(range(1, 101)))"
   ]
  },
  {
   "cell_type": "code",
   "execution_count": 8,
   "id": "8ab576f3",
   "metadata": {},
   "outputs": [
    {
     "data": {
      "text/plain": [
       "6"
      ]
     },
     "execution_count": 8,
     "metadata": {},
     "output_type": "execute_result"
    }
   ],
   "source": [
    "len(list(range(2, 8))) # 8 - 2 = 6"
   ]
  },
  {
   "cell_type": "markdown",
   "id": "b29ab039",
   "metadata": {},
   "source": [
    "## Logarithm"
   ]
  },
  {
   "cell_type": "code",
   "execution_count": 9,
   "id": "6baf8833",
   "metadata": {},
   "outputs": [],
   "source": [
    "import math"
   ]
  },
  {
   "cell_type": "code",
   "execution_count": 15,
   "id": "bf40cc37",
   "metadata": {},
   "outputs": [
    {
     "data": {
      "text/plain": [
       "1.0"
      ]
     },
     "execution_count": 15,
     "metadata": {},
     "output_type": "execute_result"
    }
   ],
   "source": [
    "math.log(2.718281828459045) # base e = natural log base = 2.718281828459045"
   ]
  },
  {
   "cell_type": "code",
   "execution_count": 16,
   "id": "9e5b7158",
   "metadata": {},
   "outputs": [
    {
     "data": {
      "text/plain": [
       "2.0"
      ]
     },
     "execution_count": 16,
     "metadata": {},
     "output_type": "execute_result"
    }
   ],
   "source": [
    "math.log10(100)"
   ]
  },
  {
   "cell_type": "code",
   "execution_count": 17,
   "id": "2ffa7ba0",
   "metadata": {},
   "outputs": [
    {
     "data": {
      "text/plain": [
       "6.0"
      ]
     },
     "execution_count": 17,
     "metadata": {},
     "output_type": "execute_result"
    }
   ],
   "source": [
    "math.log2(64)"
   ]
  },
  {
   "cell_type": "code",
   "execution_count": 18,
   "id": "c41de222",
   "metadata": {},
   "outputs": [
    {
     "data": {
      "text/plain": [
       "10.0"
      ]
     },
     "execution_count": 18,
     "metadata": {},
     "output_type": "execute_result"
    }
   ],
   "source": [
    "math.log2(1024)"
   ]
  },
  {
   "cell_type": "code",
   "execution_count": 20,
   "id": "718fecf2",
   "metadata": {},
   "outputs": [
    {
     "data": {
      "text/plain": [
       "2.0"
      ]
     },
     "execution_count": 20,
     "metadata": {},
     "output_type": "execute_result"
    }
   ],
   "source": [
    "math.log(10000, 100) # 1st input => val, 2nd input => base"
   ]
  },
  {
   "cell_type": "code",
   "execution_count": 21,
   "id": "9da2d634",
   "metadata": {},
   "outputs": [
    {
     "data": {
      "text/plain": [
       "10.0"
      ]
     },
     "execution_count": 21,
     "metadata": {},
     "output_type": "execute_result"
    }
   ],
   "source": [
    "math.log(1024, 2)"
   ]
  },
  {
   "cell_type": "markdown",
   "id": "04ce62a2",
   "metadata": {},
   "source": [
    "## How many steps to reach to 1 by dividing with 2?"
   ]
  },
  {
   "cell_type": "code",
   "execution_count": 27,
   "id": "cdb7496f",
   "metadata": {},
   "outputs": [
    {
     "data": {
      "text/plain": [
       "3.9068905956085187"
      ]
     },
     "execution_count": 27,
     "metadata": {},
     "output_type": "execute_result"
    }
   ],
   "source": [
    "n = 15\n",
    "\n",
    "math.log2(n)"
   ]
  },
  {
   "cell_type": "code",
   "execution_count": 28,
   "id": "8aca5575",
   "metadata": {},
   "outputs": [
    {
     "data": {
      "text/plain": [
       "3"
      ]
     },
     "execution_count": 28,
     "metadata": {},
     "output_type": "execute_result"
    }
   ],
   "source": [
    "math.floor(math.log2(n))"
   ]
  },
  {
   "cell_type": "code",
   "execution_count": 23,
   "id": "299b3b2c",
   "metadata": {},
   "outputs": [
    {
     "data": {
      "text/plain": [
       "3.169925001442312"
      ]
     },
     "execution_count": 23,
     "metadata": {},
     "output_type": "execute_result"
    }
   ],
   "source": [
    "n = 9\n",
    "\n",
    "math.log2(n)"
   ]
  },
  {
   "cell_type": "code",
   "execution_count": 26,
   "id": "7215c354",
   "metadata": {},
   "outputs": [
    {
     "data": {
      "text/plain": [
       "3"
      ]
     },
     "execution_count": 26,
     "metadata": {},
     "output_type": "execute_result"
    }
   ],
   "source": [
    "math.floor(math.log2(n))"
   ]
  },
  {
   "cell_type": "code",
   "execution_count": 29,
   "id": "69f585a9",
   "metadata": {},
   "outputs": [
    {
     "data": {
      "text/plain": [
       "4"
      ]
     },
     "execution_count": 29,
     "metadata": {},
     "output_type": "execute_result"
    }
   ],
   "source": [
    "math.floor(4.69)"
   ]
  },
  {
   "cell_type": "code",
   "execution_count": 30,
   "id": "b3217378",
   "metadata": {},
   "outputs": [
    {
     "data": {
      "text/plain": [
       "-5"
      ]
     },
     "execution_count": 30,
     "metadata": {},
     "output_type": "execute_result"
    }
   ],
   "source": [
    "math.floor(-4.69)"
   ]
  },
  {
   "cell_type": "markdown",
   "id": "ee70ad0b",
   "metadata": {},
   "source": [
    "## Binary Numbers"
   ]
  },
  {
   "cell_type": "markdown",
   "id": "2666895f",
   "metadata": {},
   "source": [
    "Start with 0b to write a binary number"
   ]
  },
  {
   "cell_type": "code",
   "execution_count": 31,
   "id": "b7a69449",
   "metadata": {},
   "outputs": [
    {
     "data": {
      "text/plain": [
       "5"
      ]
     },
     "execution_count": 31,
     "metadata": {},
     "output_type": "execute_result"
    }
   ],
   "source": [
    "0b101"
   ]
  },
  {
   "cell_type": "code",
   "execution_count": 32,
   "id": "292447d4",
   "metadata": {},
   "outputs": [
    {
     "data": {
      "text/plain": [
       "7"
      ]
     },
     "execution_count": 32,
     "metadata": {},
     "output_type": "execute_result"
    }
   ],
   "source": [
    "0b111"
   ]
  },
  {
   "cell_type": "code",
   "execution_count": 33,
   "id": "9f99072c",
   "metadata": {},
   "outputs": [
    {
     "data": {
      "text/plain": [
       "11"
      ]
     },
     "execution_count": 33,
     "metadata": {},
     "output_type": "execute_result"
    }
   ],
   "source": [
    "0b1011"
   ]
  },
  {
   "cell_type": "code",
   "execution_count": 34,
   "id": "bcc0dd9b",
   "metadata": {},
   "outputs": [
    {
     "data": {
      "text/plain": [
       "15"
      ]
     },
     "execution_count": 34,
     "metadata": {},
     "output_type": "execute_result"
    }
   ],
   "source": [
    "0b1111"
   ]
  },
  {
   "cell_type": "code",
   "execution_count": 35,
   "id": "d9cde48c",
   "metadata": {},
   "outputs": [
    {
     "data": {
      "text/plain": [
       "2"
      ]
     },
     "execution_count": 35,
     "metadata": {},
     "output_type": "execute_result"
    }
   ],
   "source": [
    "0b0000000000000000010"
   ]
  },
  {
   "cell_type": "code",
   "execution_count": 36,
   "id": "1e05319a",
   "metadata": {},
   "outputs": [
    {
     "name": "stdout",
     "output_type": "stream",
     "text": [
      "7\n"
     ]
    }
   ],
   "source": [
    "x = 0b111\n",
    "\n",
    "print(x)"
   ]
  },
  {
   "cell_type": "markdown",
   "id": "608f4f51",
   "metadata": {},
   "source": [
    "## Decimal to binary"
   ]
  },
  {
   "cell_type": "code",
   "execution_count": 37,
   "id": "6eed97d2",
   "metadata": {},
   "outputs": [
    {
     "data": {
      "text/plain": [
       "'0b111'"
      ]
     },
     "execution_count": 37,
     "metadata": {},
     "output_type": "execute_result"
    }
   ],
   "source": [
    "bin(7)"
   ]
  },
  {
   "cell_type": "code",
   "execution_count": 38,
   "id": "ccc9727f",
   "metadata": {},
   "outputs": [
    {
     "data": {
      "text/plain": [
       "'0b110010'"
      ]
     },
     "execution_count": 38,
     "metadata": {},
     "output_type": "execute_result"
    }
   ],
   "source": [
    "bin(50)"
   ]
  },
  {
   "cell_type": "code",
   "execution_count": 39,
   "id": "f2539458",
   "metadata": {},
   "outputs": [
    {
     "data": {
      "text/plain": [
       "'0b1110'"
      ]
     },
     "execution_count": 39,
     "metadata": {},
     "output_type": "execute_result"
    }
   ],
   "source": [
    "bin(14)"
   ]
  },
  {
   "cell_type": "code",
   "execution_count": 40,
   "id": "e00bd32f",
   "metadata": {},
   "outputs": [
    {
     "data": {
      "text/plain": [
       "'0b11'"
      ]
     },
     "execution_count": 40,
     "metadata": {},
     "output_type": "execute_result"
    }
   ],
   "source": [
    "bin(3)"
   ]
  },
  {
   "cell_type": "code",
   "execution_count": 44,
   "id": "763ecc16",
   "metadata": {},
   "outputs": [],
   "source": [
    "# Iteration / Loops class =>\n",
    "# we will write our own code to do these conversions!"
   ]
  },
  {
   "cell_type": "markdown",
   "id": "cef2ee60",
   "metadata": {},
   "source": [
    "## Doubts"
   ]
  },
  {
   "cell_type": "markdown",
   "id": "579e4515",
   "metadata": {},
   "source": [
    "Math Range: [3, 10] => 10 - 3 + 1 = 7 + 1 = 8"
   ]
  },
  {
   "cell_type": "code",
   "execution_count": 45,
   "id": "728e64d4",
   "metadata": {},
   "outputs": [
    {
     "data": {
      "text/plain": [
       "range(3, 11)"
      ]
     },
     "execution_count": 45,
     "metadata": {},
     "output_type": "execute_result"
    }
   ],
   "source": [
    "range(3, 11)"
   ]
  },
  {
   "cell_type": "code",
   "execution_count": 46,
   "id": "66751d46",
   "metadata": {},
   "outputs": [
    {
     "data": {
      "text/plain": [
       "[3, 4, 5, 6, 7, 8, 9, 10]"
      ]
     },
     "execution_count": 46,
     "metadata": {},
     "output_type": "execute_result"
    }
   ],
   "source": [
    "list(range(3, 11))"
   ]
  },
  {
   "cell_type": "markdown",
   "id": "e971dd0f",
   "metadata": {},
   "source": [
    "Python Range: (1, 7)\n",
    "\n",
    "Equal to Math Range: [1, 7) # 7 - 1 = 6"
   ]
  },
  {
   "cell_type": "code",
   "execution_count": 47,
   "id": "8692813c",
   "metadata": {},
   "outputs": [
    {
     "data": {
      "text/plain": [
       "[1, 2, 3, 4, 5, 6]"
      ]
     },
     "execution_count": 47,
     "metadata": {},
     "output_type": "execute_result"
    }
   ],
   "source": [
    "list(range(1, 7))"
   ]
  },
  {
   "cell_type": "code",
   "execution_count": 48,
   "id": "2b45bb03",
   "metadata": {},
   "outputs": [
    {
     "data": {
      "text/plain": [
       "'0b11001'"
      ]
     },
     "execution_count": 48,
     "metadata": {},
     "output_type": "execute_result"
    }
   ],
   "source": [
    "bin(25)"
   ]
  },
  {
   "cell_type": "markdown",
   "id": "ca45e062",
   "metadata": {},
   "source": [
    "2 | 25 \n",
    "\n",
    "2 | 12 => 1\n",
    "\n",
    "2 | 6  => 0\n",
    "\n",
    "2 | 3  => 0\n",
    "\n",
    "2 | 1  => 1\n",
    "\n",
    "2 | 0  => 1\n",
    "\n",
    "Read it from bottom to top => (11001)_2"
   ]
  },
  {
   "cell_type": "code",
   "execution_count": null,
   "id": "bdba5361",
   "metadata": {},
   "outputs": [],
   "source": []
  }
 ],
 "metadata": {
  "kernelspec": {
   "display_name": "Python 3 (ipykernel)",
   "language": "python",
   "name": "python3"
  },
  "language_info": {
   "codemirror_mode": {
    "name": "ipython",
    "version": 3
   },
   "file_extension": ".py",
   "mimetype": "text/x-python",
   "name": "python",
   "nbconvert_exporter": "python",
   "pygments_lexer": "ipython3",
   "version": "3.9.12"
  }
 },
 "nbformat": 4,
 "nbformat_minor": 5
}
