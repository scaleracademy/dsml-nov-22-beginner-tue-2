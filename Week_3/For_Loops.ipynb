{
 "cells": [
  {
   "cell_type": "markdown",
   "id": "3158ca1b",
   "metadata": {},
   "source": [
    "## Iteration 2 : For Loops"
   ]
  },
  {
   "cell_type": "markdown",
   "id": "cff16dbd",
   "metadata": {},
   "source": [
    "## while loop revision"
   ]
  },
  {
   "cell_type": "code",
   "execution_count": 3,
   "id": "171c2c36",
   "metadata": {},
   "outputs": [
    {
     "name": "stdout",
     "output_type": "stream",
     "text": [
      "5\n",
      "5 4 3 2 1 "
     ]
    }
   ],
   "source": [
    "N = int(input())\n",
    "i = N\n",
    "\n",
    "while i > 0:\n",
    "    print(i, end=' ')\n",
    "    i -= 1"
   ]
  },
  {
   "cell_type": "code",
   "execution_count": 4,
   "id": "405369d8",
   "metadata": {},
   "outputs": [
    {
     "name": "stdout",
     "output_type": "stream",
     "text": [
      "1\n"
     ]
    }
   ],
   "source": [
    "print(3 % 2 )"
   ]
  },
  {
   "cell_type": "code",
   "execution_count": 7,
   "id": "11881506",
   "metadata": {},
   "outputs": [
    {
     "name": "stdout",
     "output_type": "stream",
     "text": [
      "6\n"
     ]
    }
   ],
   "source": [
    "x = int(input())\n",
    "if x % 2 == 1:\n",
    "    print(x, 'is odd!')"
   ]
  },
  {
   "cell_type": "code",
   "execution_count": 10,
   "id": "bda3046e",
   "metadata": {},
   "outputs": [
    {
     "name": "stdout",
     "output_type": "stream",
     "text": [
      "5\n",
      "5 is odd!\n"
     ]
    }
   ],
   "source": [
    "x = int(input())\n",
    "if x % 2: # 1 is nothing but True\n",
    "    print(x, 'is odd!')"
   ]
  },
  {
   "cell_type": "code",
   "execution_count": 11,
   "id": "f8a71810",
   "metadata": {},
   "outputs": [
    {
     "data": {
      "text/plain": [
       "True"
      ]
     },
     "execution_count": 11,
     "metadata": {},
     "output_type": "execute_result"
    }
   ],
   "source": [
    "bool(1)"
   ]
  },
  {
   "cell_type": "code",
   "execution_count": 12,
   "id": "58926e93",
   "metadata": {},
   "outputs": [
    {
     "data": {
      "text/plain": [
       "False"
      ]
     },
     "execution_count": 12,
     "metadata": {},
     "output_type": "execute_result"
    }
   ],
   "source": [
    "bool(0)"
   ]
  },
  {
   "cell_type": "markdown",
   "id": "8b4eb0c5",
   "metadata": {},
   "source": [
    "## Quiz"
   ]
  },
  {
   "cell_type": "code",
   "execution_count": 13,
   "id": "8cc7d0f1",
   "metadata": {},
   "outputs": [
    {
     "name": "stdout",
     "output_type": "stream",
     "text": [
      "0 : 0 1 : 2 2 : 4 "
     ]
    }
   ],
   "source": [
    "i = 0\n",
    "j = 0\n",
    "while i <= 2:\n",
    "    if j%2:\n",
    "        j += 1\n",
    "    print(i, \":\", j, end=\" \")\n",
    "    i+=1\n",
    "    j+=1"
   ]
  },
  {
   "cell_type": "code",
   "execution_count": null,
   "id": "781212ab",
   "metadata": {},
   "outputs": [],
   "source": []
  },
  {
   "cell_type": "code",
   "execution_count": null,
   "id": "f6e4280e",
   "metadata": {},
   "outputs": [],
   "source": []
  },
  {
   "cell_type": "code",
   "execution_count": null,
   "id": "883d9bcb",
   "metadata": {},
   "outputs": [],
   "source": []
  },
  {
   "cell_type": "markdown",
   "id": "0743a046",
   "metadata": {},
   "source": [
    "## range"
   ]
  },
  {
   "cell_type": "code",
   "execution_count": 14,
   "id": "7a76ff59",
   "metadata": {},
   "outputs": [
    {
     "data": {
      "text/plain": [
       "[1, 2, 3, 4, 5, 6, 7, 8, 9]"
      ]
     },
     "execution_count": 14,
     "metadata": {},
     "output_type": "execute_result"
    }
   ],
   "source": [
    "list(range(1, 10)) # 10 - 1 = 9"
   ]
  },
  {
   "cell_type": "code",
   "execution_count": 15,
   "id": "19d69068",
   "metadata": {},
   "outputs": [],
   "source": [
    "range?"
   ]
  },
  {
   "cell_type": "markdown",
   "id": "2e15ed89",
   "metadata": {},
   "source": [
    "### range with 1 input"
   ]
  },
  {
   "cell_type": "code",
   "execution_count": 17,
   "id": "941685c2",
   "metadata": {},
   "outputs": [
    {
     "data": {
      "text/plain": [
       "range(0, 4)"
      ]
     },
     "execution_count": 17,
     "metadata": {},
     "output_type": "execute_result"
    }
   ],
   "source": [
    "range(4) # start = 0 by default"
   ]
  },
  {
   "cell_type": "code",
   "execution_count": 18,
   "id": "3a65c0ec",
   "metadata": {},
   "outputs": [
    {
     "data": {
      "text/plain": [
       "[0, 1, 2, 3]"
      ]
     },
     "execution_count": 18,
     "metadata": {},
     "output_type": "execute_result"
    }
   ],
   "source": [
    "list(range(4))"
   ]
  },
  {
   "cell_type": "code",
   "execution_count": 19,
   "id": "5ea5aa0a",
   "metadata": {},
   "outputs": [
    {
     "data": {
      "text/plain": [
       "[0, 1, 2, 3]"
      ]
     },
     "execution_count": 19,
     "metadata": {},
     "output_type": "execute_result"
    }
   ],
   "source": [
    "list(range(0, 4))"
   ]
  },
  {
   "cell_type": "code",
   "execution_count": 20,
   "id": "a4339240",
   "metadata": {},
   "outputs": [
    {
     "data": {
      "text/plain": [
       "[0, 1, 2, 3, 4, 5, 6, 7, 8]"
      ]
     },
     "execution_count": 20,
     "metadata": {},
     "output_type": "execute_result"
    }
   ],
   "source": [
    "list(range(0, 9)) # 9 - 0 = 9"
   ]
  },
  {
   "cell_type": "code",
   "execution_count": 21,
   "id": "899c13a2",
   "metadata": {},
   "outputs": [
    {
     "data": {
      "text/plain": [
       "[0, 1, 2, 3, 4, 5, 6, 7, 8]"
      ]
     },
     "execution_count": 21,
     "metadata": {},
     "output_type": "execute_result"
    }
   ],
   "source": [
    "list(range(9))"
   ]
  },
  {
   "cell_type": "markdown",
   "id": "6a79b969",
   "metadata": {},
   "source": [
    "## Quiz"
   ]
  },
  {
   "cell_type": "code",
   "execution_count": 23,
   "id": "88caa415",
   "metadata": {},
   "outputs": [
    {
     "name": "stdout",
     "output_type": "stream",
     "text": [
      "[7]\n"
     ]
    }
   ],
   "source": [
    "print(list(range(7, 8))) # 8 - 7 = 1"
   ]
  },
  {
   "cell_type": "code",
   "execution_count": 24,
   "id": "c7a18711",
   "metadata": {},
   "outputs": [
    {
     "data": {
      "text/plain": [
       "range(8, 8)"
      ]
     },
     "execution_count": 24,
     "metadata": {},
     "output_type": "execute_result"
    }
   ],
   "source": [
    "range(8, 8) # 8 - 8 = 0 nums"
   ]
  },
  {
   "cell_type": "code",
   "execution_count": 25,
   "id": "946d4c78",
   "metadata": {},
   "outputs": [
    {
     "data": {
      "text/plain": [
       "[]"
      ]
     },
     "execution_count": 25,
     "metadata": {},
     "output_type": "execute_result"
    }
   ],
   "source": [
    "list(range(8, 8)) # ending num 8 is never included"
   ]
  },
  {
   "cell_type": "markdown",
   "id": "2bcd1cee",
   "metadata": {},
   "source": [
    "## range with 3 inputs"
   ]
  },
  {
   "cell_type": "code",
   "execution_count": 26,
   "id": "27f9caff",
   "metadata": {},
   "outputs": [
    {
     "data": {
      "text/plain": [
       "[0, 2, 4, 6, 8]"
      ]
     },
     "execution_count": 26,
     "metadata": {},
     "output_type": "execute_result"
    }
   ],
   "source": [
    "list(range(0, 9, 2))"
   ]
  },
  {
   "cell_type": "code",
   "execution_count": 27,
   "id": "8644fc53",
   "metadata": {},
   "outputs": [
    {
     "data": {
      "text/plain": [
       "[1, 3, 5, 7]"
      ]
     },
     "execution_count": 27,
     "metadata": {},
     "output_type": "execute_result"
    }
   ],
   "source": [
    "list(range(1, 8, 2))"
   ]
  },
  {
   "cell_type": "code",
   "execution_count": null,
   "id": "c2ffb383",
   "metadata": {},
   "outputs": [],
   "source": []
  },
  {
   "cell_type": "code",
   "execution_count": 29,
   "id": "d8aca31c",
   "metadata": {},
   "outputs": [
    {
     "data": {
      "text/plain": [
       "[]"
      ]
     },
     "execution_count": 29,
     "metadata": {},
     "output_type": "execute_result"
    }
   ],
   "source": [
    "list(range(5, 1)) # jump = 1"
   ]
  },
  {
   "cell_type": "code",
   "execution_count": 31,
   "id": "753d2944",
   "metadata": {},
   "outputs": [
    {
     "data": {
      "text/plain": [
       "[]"
      ]
     },
     "execution_count": 31,
     "metadata": {},
     "output_type": "execute_result"
    }
   ],
   "source": [
    "list(range(5, 1, 1)) # default jump = 1"
   ]
  },
  {
   "cell_type": "markdown",
   "id": "9f67b4f4",
   "metadata": {},
   "source": [
    "## Negative jump"
   ]
  },
  {
   "cell_type": "code",
   "execution_count": 30,
   "id": "e5621b9b",
   "metadata": {},
   "outputs": [
    {
     "data": {
      "text/plain": [
       "[5, 4, 3, 2]"
      ]
     },
     "execution_count": 30,
     "metadata": {},
     "output_type": "execute_result"
    }
   ],
   "source": [
    "list(range(5, 1, -1)) # end = 1 is not included"
   ]
  },
  {
   "cell_type": "code",
   "execution_count": 32,
   "id": "42295f0b",
   "metadata": {},
   "outputs": [
    {
     "data": {
      "text/plain": [
       "[10, 9, 8, 7, 6, 5, 4, 3, 2, 1, 0]"
      ]
     },
     "execution_count": 32,
     "metadata": {},
     "output_type": "execute_result"
    }
   ],
   "source": [
    "list(range(10, -1, -1)) # how many elements will be included?"
   ]
  },
  {
   "cell_type": "markdown",
   "id": "70b31eb9",
   "metadata": {},
   "source": [
    "## for loop"
   ]
  },
  {
   "cell_type": "code",
   "execution_count": 34,
   "id": "bfc0ccf2",
   "metadata": {},
   "outputs": [
    {
     "name": "stdout",
     "output_type": "stream",
     "text": [
      "1 2 3 4 "
     ]
    }
   ],
   "source": [
    "for i in range(1, 5):\n",
    "    print(i, end=' ')"
   ]
  },
  {
   "cell_type": "code",
   "execution_count": 35,
   "id": "4053bed3",
   "metadata": {},
   "outputs": [
    {
     "name": "stdout",
     "output_type": "stream",
     "text": [
      "10 9 8 7 6 5 4 3 2 1 "
     ]
    }
   ],
   "source": [
    "for i in range(10, 0, -1):\n",
    "    print(i, end=' ')"
   ]
  },
  {
   "cell_type": "code",
   "execution_count": 36,
   "id": "39cf5af6",
   "metadata": {},
   "outputs": [
    {
     "name": "stdout",
     "output_type": "stream",
     "text": [
      "0 1 2 3 4 5 6 "
     ]
    }
   ],
   "source": [
    "for i in range(7):\n",
    "    print(i, end=' ')"
   ]
  },
  {
   "cell_type": "markdown",
   "id": "5df0a175",
   "metadata": {},
   "source": [
    "### Q1. sum of even numbers from 1 to N"
   ]
  },
  {
   "cell_type": "code",
   "execution_count": 38,
   "id": "7331969d",
   "metadata": {},
   "outputs": [
    {
     "name": "stdout",
     "output_type": "stream",
     "text": [
      "7\n",
      "1 2 3 4 5 6 7 "
     ]
    }
   ],
   "source": [
    "N = int(input())\n",
    "for i in range(1, N + 1):\n",
    "    print(i, end=' ')"
   ]
  },
  {
   "cell_type": "code",
   "execution_count": 41,
   "id": "e8a3747f",
   "metadata": {},
   "outputs": [
    {
     "name": "stdout",
     "output_type": "stream",
     "text": [
      "7\n",
      "2 4 6 "
     ]
    }
   ],
   "source": [
    "N = int(input())\n",
    "for i in range(1, N + 1):\n",
    "    if i % 2 == 0:\n",
    "        print(i, end=' ')"
   ]
  },
  {
   "cell_type": "code",
   "execution_count": 43,
   "id": "09e9a144",
   "metadata": {},
   "outputs": [
    {
     "name": "stdout",
     "output_type": "stream",
     "text": [
      "8\n",
      "2 4 6 8 "
     ]
    }
   ],
   "source": [
    "N = int(input())\n",
    "for i in range(2, N + 1, 2):\n",
    "    print(i, end=' ')"
   ]
  },
  {
   "cell_type": "code",
   "execution_count": 47,
   "id": "279ed003",
   "metadata": {},
   "outputs": [
    {
     "data": {
      "text/plain": [
       "[2, 4, 6, 8]"
      ]
     },
     "execution_count": 47,
     "metadata": {},
     "output_type": "execute_result"
    }
   ],
   "source": [
    "list(range(2, 10, 2))"
   ]
  },
  {
   "cell_type": "code",
   "execution_count": 46,
   "id": "da1fd9bb",
   "metadata": {},
   "outputs": [
    {
     "data": {
      "text/plain": [
       "[2, 4, 6, 8, 10]"
      ]
     },
     "execution_count": 46,
     "metadata": {},
     "output_type": "execute_result"
    }
   ],
   "source": [
    "list(range(2, 11, 2))"
   ]
  },
  {
   "cell_type": "markdown",
   "id": "b7f327a2",
   "metadata": {},
   "source": [
    "## Addition"
   ]
  },
  {
   "cell_type": "code",
   "execution_count": 52,
   "id": "7617c16a",
   "metadata": {},
   "outputs": [
    {
     "name": "stdout",
     "output_type": "stream",
     "text": [
      "10\n",
      "2 2\n",
      "4 6\n",
      "6 12\n",
      "8 20\n",
      "10 30\n",
      "30\n"
     ]
    }
   ],
   "source": [
    "N = int(input())\n",
    "s = 0\n",
    "for i in range(2, N + 1, 2):\n",
    "    s += i\n",
    "    print(i, s)\n",
    "\n",
    "print(s)"
   ]
  },
  {
   "cell_type": "markdown",
   "id": "bf1b5803",
   "metadata": {},
   "source": [
    "## Quiz"
   ]
  },
  {
   "cell_type": "code",
   "execution_count": 53,
   "id": "0e0c0d56",
   "metadata": {},
   "outputs": [
    {
     "ename": "SyntaxError",
     "evalue": "invalid syntax (2045867208.py, line 7)",
     "output_type": "error",
     "traceback": [
      "\u001b[0;36m  Input \u001b[0;32mIn [53]\u001b[0;36m\u001b[0m\n\u001b[0;31m    elif num > 2:\u001b[0m\n\u001b[0m    ^\u001b[0m\n\u001b[0;31mSyntaxError\u001b[0m\u001b[0;31m:\u001b[0m invalid syntax\n"
     ]
    }
   ],
   "source": [
    "num = 10\n",
    "\n",
    "if num%2:\n",
    "    print(\"OHH\")\n",
    "else:\n",
    "    print(\"NOO\")\n",
    "elif num > 2:\n",
    "    print(\"WHYY\")"
   ]
  },
  {
   "cell_type": "code",
   "execution_count": 54,
   "id": "7b2eed35",
   "metadata": {},
   "outputs": [
    {
     "name": "stdout",
     "output_type": "stream",
     "text": [
      "NOO\n",
      "WHYY\n"
     ]
    }
   ],
   "source": [
    "num = 10\n",
    "\n",
    "if num%2:\n",
    "    print(\"OHH\")\n",
    "else:\n",
    "    print(\"NOO\")\n",
    "if num > 2:\n",
    "    print(\"WHYY\")"
   ]
  },
  {
   "cell_type": "code",
   "execution_count": null,
   "id": "02f1ebda",
   "metadata": {},
   "outputs": [],
   "source": [
    "N = int(input())\n",
    "\n",
    "for i in range(N, 1, -1):\n",
    "    print(i, end=' ')"
   ]
  },
  {
   "cell_type": "code",
   "execution_count": null,
   "id": "8c54a764",
   "metadata": {},
   "outputs": [],
   "source": []
  },
  {
   "cell_type": "code",
   "execution_count": null,
   "id": "4f731a31",
   "metadata": {},
   "outputs": [],
   "source": []
  },
  {
   "cell_type": "code",
   "execution_count": null,
   "id": "823bc30d",
   "metadata": {},
   "outputs": [],
   "source": []
  },
  {
   "cell_type": "markdown",
   "id": "d8b041c6",
   "metadata": {},
   "source": [
    "## Q2. Equivalent for"
   ]
  },
  {
   "cell_type": "markdown",
   "id": "eadb1d41",
   "metadata": {},
   "source": [
    "## 2. Equivalent for\n",
    "Given the piece of code illustrate an working example for `while` loop. Write a python program with same functionality but uses `for` loop instead of while loop\n",
    "\n",
    "```python\n",
    "max_ = int(input())\n",
    "i = 1\n",
    "while i <= 2**max_:\n",
    "  print(i)\n",
    "  i *= 2\n",
    "```\n",
    "\n",
    "**Input Format**:\n",
    "```\n",
    "Integer as input\n",
    "```\n",
    "**Output Format**:\n",
    "```\n",
    "Output recieved from the given code\n",
    "```\n",
    "**Input Sample**:\n",
    "```\n",
    "5\n",
    "```\n",
    "**Output Sample**:\n",
    "```\n",
    "1\n",
    "2\n",
    "4\n",
    "8\n",
    "16\n",
    "32\n",
    "```"
   ]
  },
  {
   "cell_type": "code",
   "execution_count": 57,
   "id": "409a6081",
   "metadata": {},
   "outputs": [
    {
     "name": "stdout",
     "output_type": "stream",
     "text": [
      "5\n",
      "1\n",
      "2\n",
      "4\n",
      "8\n",
      "16\n",
      "32\n"
     ]
    }
   ],
   "source": [
    "max_ = int(input())\n",
    "i = 1\n",
    "while i <= 2**max_:\n",
    "    print(i)\n",
    "    i *= 2"
   ]
  },
  {
   "cell_type": "code",
   "execution_count": 62,
   "id": "b67fbd1e",
   "metadata": {},
   "outputs": [
    {
     "name": "stdout",
     "output_type": "stream",
     "text": [
      "5\n",
      "1 2 4 8 16 32 "
     ]
    }
   ],
   "source": [
    "max_ = int(input())\n",
    "\n",
    "for i in range(max_ + 1):\n",
    "    print(2**i, end=' ')"
   ]
  },
  {
   "cell_type": "markdown",
   "id": "65677e6d",
   "metadata": {},
   "source": [
    "## Q3. Print reverse from N to 1 "
   ]
  },
  {
   "cell_type": "code",
   "execution_count": 55,
   "id": "fb11b42b",
   "metadata": {},
   "outputs": [
    {
     "name": "stdout",
     "output_type": "stream",
     "text": [
      "7\n",
      "7 6 5 4 3 2 "
     ]
    }
   ],
   "source": [
    "N = int(input())\n",
    "for i in range(N, 1, -1):\n",
    "    print(i, end=' ')"
   ]
  },
  {
   "cell_type": "code",
   "execution_count": 56,
   "id": "357b0fb4",
   "metadata": {},
   "outputs": [
    {
     "name": "stdout",
     "output_type": "stream",
     "text": [
      "7\n",
      "7 6 5 4 3 2 1 "
     ]
    }
   ],
   "source": [
    "N = int(input())\n",
    "for i in range(N, 0, -1):\n",
    "    print(i, end=' ')"
   ]
  },
  {
   "cell_type": "markdown",
   "id": "6f8eec42",
   "metadata": {},
   "source": [
    "## Challenge: Solve without negative increment"
   ]
  },
  {
   "cell_type": "code",
   "execution_count": 63,
   "id": "8bc09fb7",
   "metadata": {},
   "outputs": [
    {
     "name": "stdout",
     "output_type": "stream",
     "text": [
      "5\n",
      "1 2 3 4 5 "
     ]
    }
   ],
   "source": [
    "N = int(input())\n",
    "for i in range(1, N + 1):\n",
    "    print(i, end=' ')"
   ]
  },
  {
   "cell_type": "code",
   "execution_count": 64,
   "id": "aef9b945",
   "metadata": {},
   "outputs": [
    {
     "name": "stdout",
     "output_type": "stream",
     "text": [
      "5\n",
      "5 4 3 2 1 "
     ]
    }
   ],
   "source": [
    "N = int(input())\n",
    "for i in range(1, N + 1):\n",
    "    print(N + 1 - i, end=' ')"
   ]
  },
  {
   "cell_type": "code",
   "execution_count": 66,
   "id": "a2f10aba",
   "metadata": {},
   "outputs": [
    {
     "name": "stdout",
     "output_type": "stream",
     "text": [
      "10\n",
      "10 9 8 7 6 5 4 3 2 1 "
     ]
    }
   ],
   "source": [
    "N = int(input())\n",
    "for i in range(1, N + 1):\n",
    "    print(N - i + 1, end=' ')"
   ]
  },
  {
   "cell_type": "markdown",
   "id": "a7d69376",
   "metadata": {},
   "source": [
    "```\n",
    "*\n",
    "* *\n",
    "* * *\n",
    "```"
   ]
  },
  {
   "cell_type": "markdown",
   "id": "51a60646",
   "metadata": {},
   "source": [
    "```\n",
    "* * *\n",
    "* *\n",
    "*\n",
    "```"
   ]
  },
  {
   "cell_type": "code",
   "execution_count": null,
   "id": "20a5060a",
   "metadata": {},
   "outputs": [],
   "source": [
    "# Reverse concept will help us"
   ]
  },
  {
   "cell_type": "code",
   "execution_count": 68,
   "id": "96500e9b",
   "metadata": {},
   "outputs": [
    {
     "name": "stdout",
     "output_type": "stream",
     "text": [
      "-1 1 3 5 7 9 "
     ]
    }
   ],
   "source": [
    "for i in range(-1, 10, 2):\n",
    "    print(i, end=' ')"
   ]
  },
  {
   "cell_type": "markdown",
   "id": "1cc1a606",
   "metadata": {},
   "source": [
    "## Q4: Print count of digits in a number"
   ]
  },
  {
   "cell_type": "code",
   "execution_count": 71,
   "id": "c4d6917d",
   "metadata": {},
   "outputs": [],
   "source": [
    "N = 453"
   ]
  },
  {
   "cell_type": "code",
   "execution_count": 72,
   "id": "8ccc380f",
   "metadata": {},
   "outputs": [
    {
     "name": "stdout",
     "output_type": "stream",
     "text": [
      "this is the digit:  3\n",
      "45\n"
     ]
    }
   ],
   "source": [
    "print('this is the digit: ', N % 10)\n",
    "N = N // 10\n",
    "print(N)"
   ]
  },
  {
   "cell_type": "code",
   "execution_count": 73,
   "id": "698599a8",
   "metadata": {},
   "outputs": [
    {
     "name": "stdout",
     "output_type": "stream",
     "text": [
      "this is the digit:  5\n",
      "4\n"
     ]
    }
   ],
   "source": [
    "print('this is the digit: ', N % 10)\n",
    "N = N // 10\n",
    "print(N)"
   ]
  },
  {
   "cell_type": "code",
   "execution_count": 74,
   "id": "304bc7b9",
   "metadata": {},
   "outputs": [
    {
     "name": "stdout",
     "output_type": "stream",
     "text": [
      "this is the digit:  4\n",
      "0\n"
     ]
    }
   ],
   "source": [
    "print('this is the digit: ', N % 10)\n",
    "N = N // 10\n",
    "print(N)"
   ]
  },
  {
   "cell_type": "code",
   "execution_count": null,
   "id": "8ba4977d",
   "metadata": {},
   "outputs": [],
   "source": [
    "# no of times the loop will run will depend on "
   ]
  },
  {
   "cell_type": "code",
   "execution_count": 79,
   "id": "b22d29bb",
   "metadata": {},
   "outputs": [
    {
     "name": "stdout",
     "output_type": "stream",
     "text": [
      "4607352\n",
      "2 5 3 7 0 6 4 "
     ]
    }
   ],
   "source": [
    "N = int(input())\n",
    "while N > 0:\n",
    "    d = N % 10\n",
    "    print(d, end=' ')\n",
    "    N = N // 10"
   ]
  },
  {
   "cell_type": "markdown",
   "id": "10872e8e",
   "metadata": {},
   "source": [
    "## Print Reverse of a num"
   ]
  },
  {
   "cell_type": "code",
   "execution_count": 81,
   "id": "29f6d3e6",
   "metadata": {},
   "outputs": [
    {
     "name": "stdout",
     "output_type": "stream",
     "text": [
      "56572\n",
      "27565"
     ]
    }
   ],
   "source": [
    "N = int(input())\n",
    "while N > 0:\n",
    "    d = N % 10\n",
    "    print(d, end='')\n",
    "    N = N // 10"
   ]
  },
  {
   "cell_type": "markdown",
   "id": "0871dc88",
   "metadata": {},
   "source": [
    "## Count the digits"
   ]
  },
  {
   "cell_type": "code",
   "execution_count": 85,
   "id": "b5372f87",
   "metadata": {},
   "outputs": [
    {
     "name": "stdout",
     "output_type": "stream",
     "text": [
      "5625\n",
      "5 2 6 5 \n",
      "\n",
      "4\n"
     ]
    }
   ],
   "source": [
    "c = 0\n",
    "N = int(input())\n",
    "while N > 0:\n",
    "    d = N % 10\n",
    "    print(d, end=' ')\n",
    "    N = N//10\n",
    "    c += 1\n",
    "print('\\n')\n",
    "print(c)"
   ]
  },
  {
   "cell_type": "markdown",
   "id": "dddcac7d",
   "metadata": {},
   "source": [
    "## Homework"
   ]
  },
  {
   "cell_type": "markdown",
   "id": "d86c67c3",
   "metadata": {},
   "source": [
    "- Just work on the assignemts in dashboard :) "
   ]
  },
  {
   "cell_type": "markdown",
   "id": "874c995e",
   "metadata": {},
   "source": [
    "## Doubts"
   ]
  },
  {
   "cell_type": "code",
   "execution_count": 90,
   "id": "aa40dc84",
   "metadata": {},
   "outputs": [
    {
     "name": "stdout",
     "output_type": "stream",
     "text": [
      "99\n",
      "1  \n",
      "4  \n",
      "9  \n",
      "16  \n",
      "25  \n",
      "36  \n",
      "49  \n",
      "64  \n",
      "81  \n"
     ]
    }
   ],
   "source": [
    "n = int(input())\n",
    "i=1\n",
    "res =1\n",
    "while i<n:\n",
    "    res = i*i\n",
    "    if(res<=n):\n",
    "        # before printing check if it's <= N\n",
    "        print(res, ' ')\n",
    "    i +=1"
   ]
  },
  {
   "cell_type": "markdown",
   "id": "2bea2d0f",
   "metadata": {},
   "source": [
    "## https://github.com/scaleracademy/dsml-nov-22-beginner-tue-2"
   ]
  },
  {
   "cell_type": "code",
   "execution_count": null,
   "id": "ba8cac01",
   "metadata": {},
   "outputs": [],
   "source": []
  }
 ],
 "metadata": {
  "kernelspec": {
   "display_name": "Python 3 (ipykernel)",
   "language": "python",
   "name": "python3"
  },
  "language_info": {
   "codemirror_mode": {
    "name": "ipython",
    "version": 3
   },
   "file_extension": ".py",
   "mimetype": "text/x-python",
   "name": "python",
   "nbconvert_exporter": "python",
   "pygments_lexer": "ipython3",
   "version": "3.9.12"
  }
 },
 "nbformat": 4,
 "nbformat_minor": 5
}
