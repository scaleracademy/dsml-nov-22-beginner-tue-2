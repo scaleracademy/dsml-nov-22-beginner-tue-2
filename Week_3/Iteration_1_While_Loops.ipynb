{
 "cells": [
  {
   "cell_type": "markdown",
   "id": "68dc5af4",
   "metadata": {},
   "source": [
    "## Iteration 1 - While Loops"
   ]
  },
  {
   "cell_type": "markdown",
   "id": "ee588fb0",
   "metadata": {},
   "source": [
    "## 1. print with end"
   ]
  },
  {
   "cell_type": "code",
   "execution_count": 13,
   "id": "27afd910",
   "metadata": {},
   "outputs": [
    {
     "name": "stdout",
     "output_type": "stream",
     "text": [
      "1\n",
      "2\n",
      "4\n"
     ]
    }
   ],
   "source": [
    "print(1) # default end = '\\n'\n",
    "print(2)\n",
    "print(4)"
   ]
  },
  {
   "cell_type": "code",
   "execution_count": 2,
   "id": "bb21cc1a",
   "metadata": {},
   "outputs": [
    {
     "name": "stdout",
     "output_type": "stream",
     "text": [
      "1 2 4 "
     ]
    }
   ],
   "source": [
    "print(1, end=' ')\n",
    "print(2, end=' ')\n",
    "print(4, end=' ')"
   ]
  },
  {
   "cell_type": "code",
   "execution_count": 3,
   "id": "9731a990",
   "metadata": {},
   "outputs": [
    {
     "name": "stdout",
     "output_type": "stream",
     "text": [
      "1\n",
      "2\n",
      "4\n"
     ]
    }
   ],
   "source": [
    "print(1, end='\\n')\n",
    "print(2, end='\\n')\n",
    "print(4, end='\\n')"
   ]
  },
  {
   "cell_type": "code",
   "execution_count": 8,
   "id": "0dede948",
   "metadata": {},
   "outputs": [
    {
     "name": "stdout",
     "output_type": "stream",
     "text": [
      "hello123world\n",
      "1 2 3\n",
      "4 5 6"
     ]
    }
   ],
   "source": [
    "print(\"hello\", end='123')\n",
    "print(\"world\", end='\\n1 2 3\\n4 5 6')"
   ]
  },
  {
   "cell_type": "markdown",
   "id": "472b603f",
   "metadata": {},
   "source": [
    "## Quiz - 1"
   ]
  },
  {
   "cell_type": "code",
   "execution_count": 12,
   "id": "ec6007de",
   "metadata": {},
   "outputs": [
    {
     "name": "stdout",
     "output_type": "stream",
     "text": [
      "abbc"
     ]
    }
   ],
   "source": [
    "print(\"a\", end=\"b\")\n",
    "print(\"b\", end=\"c\")"
   ]
  },
  {
   "cell_type": "code",
   "execution_count": 16,
   "id": "204e9a22",
   "metadata": {},
   "outputs": [
    {
     "name": "stdout",
     "output_type": "stream",
     "text": [
      "\n",
      "\n"
     ]
    }
   ],
   "source": [
    "print('\\n')"
   ]
  },
  {
   "cell_type": "code",
   "execution_count": 18,
   "id": "55ca7b65",
   "metadata": {},
   "outputs": [
    {
     "name": "stdout",
     "output_type": "stream",
     "text": [
      "\n"
     ]
    }
   ],
   "source": [
    "print('\\n', end='')"
   ]
  },
  {
   "cell_type": "markdown",
   "id": "8bad5632",
   "metadata": {},
   "source": [
    "## Iteration - While Loops"
   ]
  },
  {
   "cell_type": "code",
   "execution_count": 21,
   "id": "34ceef38",
   "metadata": {},
   "outputs": [
    {
     "name": "stdout",
     "output_type": "stream",
     "text": [
      "0 1 2 Done\n",
      "Done\n"
     ]
    }
   ],
   "source": [
    "i = 0\n",
    "while i < 3:\n",
    "    print(i, end=' ')\n",
    "    i += 1\n",
    "print('Done') # this has an end of '\\n'\n",
    "print('Done')"
   ]
  },
  {
   "cell_type": "code",
   "execution_count": 23,
   "id": "679661ff",
   "metadata": {},
   "outputs": [
    {
     "name": "stdout",
     "output_type": "stream",
     "text": [
      "1abc"
     ]
    }
   ],
   "source": [
    "print(1, end='abc') # end is a value you are passing to the function\n",
    "\n",
    "# if you do not pass it will use '\\n' or the newline character"
   ]
  },
  {
   "cell_type": "markdown",
   "id": "34a164e0",
   "metadata": {},
   "source": [
    "## Print 1 to N"
   ]
  },
  {
   "cell_type": "code",
   "execution_count": 26,
   "id": "251a4e7f",
   "metadata": {},
   "outputs": [
    {
     "name": "stdout",
     "output_type": "stream",
     "text": [
      "1 2 \n",
      "Done\n"
     ]
    }
   ],
   "source": [
    "N = 3\n",
    "i = 1\n",
    "while i < N:\n",
    "    print(i, end=' ')\n",
    "    i += 1\n",
    "print('\\nDone')"
   ]
  },
  {
   "cell_type": "code",
   "execution_count": 27,
   "id": "97d97d72",
   "metadata": {},
   "outputs": [
    {
     "name": "stdout",
     "output_type": "stream",
     "text": [
      "1 2 3 \n",
      "Done\n"
     ]
    }
   ],
   "source": [
    "N = 3\n",
    "i = 1\n",
    "while i <= N:\n",
    "    print(i, end=' ')\n",
    "    i += 1\n",
    "print('\\nDone')"
   ]
  },
  {
   "cell_type": "code",
   "execution_count": 28,
   "id": "46bf03d0",
   "metadata": {},
   "outputs": [
    {
     "name": "stdout",
     "output_type": "stream",
     "text": [
      "1 2 3 \n",
      "Done\n"
     ]
    }
   ],
   "source": [
    "N = 3\n",
    "i = 1\n",
    "while i < N + 1: # this is also same => Do a dry Run (HW)\n",
    "    print(i, end=' ')\n",
    "    i += 1\n",
    "print('\\nDone')"
   ]
  },
  {
   "cell_type": "code",
   "execution_count": 33,
   "id": "90608e36",
   "metadata": {},
   "outputs": [
    {
     "name": "stdout",
     "output_type": "stream",
     "text": [
      "1 2 3 4 5 6 7 8 9 10 \n",
      "Done\n"
     ]
    }
   ],
   "source": [
    "N = 10\n",
    "i = 1\n",
    "while i <= N:\n",
    "    print(i, end=' ')\n",
    "    i += 1\n",
    "print('\\nDone')"
   ]
  },
  {
   "cell_type": "code",
   "execution_count": 6,
   "id": "93d63ada",
   "metadata": {},
   "outputs": [
    {
     "name": "stdout",
     "output_type": "stream",
     "text": [
      "2\n",
      "5\n"
     ]
    }
   ],
   "source": [
    "N = 2\n",
    "i = 2\n",
    "while i <= N:\n",
    "    print(i)\n",
    "    i += 1\n",
    "\n",
    "print(5)"
   ]
  },
  {
   "cell_type": "markdown",
   "id": "c4742505",
   "metadata": {},
   "source": [
    "## Quizzes"
   ]
  },
  {
   "cell_type": "code",
   "execution_count": 10,
   "id": "dd009d67",
   "metadata": {},
   "outputs": [
    {
     "name": "stdout",
     "output_type": "stream",
     "text": [
      "2\n",
      "4\n",
      "6\n",
      "8\n",
      "10\n"
     ]
    }
   ],
   "source": [
    "N = 11\n",
    "i = 2\n",
    "while i <= N:\n",
    "    if i % 2 == 0:\n",
    "        print(i)\n",
    "    i += 1"
   ]
  },
  {
   "cell_type": "markdown",
   "id": "066bd418",
   "metadata": {},
   "source": [
    "## Print odd numbers 1 to N"
   ]
  },
  {
   "cell_type": "code",
   "execution_count": 12,
   "id": "7044f172",
   "metadata": {},
   "outputs": [
    {
     "name": "stdout",
     "output_type": "stream",
     "text": [
      "1 3 5 7 9 \n",
      "Done\n"
     ]
    }
   ],
   "source": [
    "N = 10\n",
    "i = 1\n",
    "while i <= N:\n",
    "    if i % 2 == 1:\n",
    "        print(i, end=' ')\n",
    "    i += 1\n",
    "print('\\nDone')"
   ]
  },
  {
   "cell_type": "markdown",
   "id": "414e9b18",
   "metadata": {},
   "source": [
    "Can you do it without if condition?"
   ]
  },
  {
   "cell_type": "code",
   "execution_count": 13,
   "id": "bb2c686e",
   "metadata": {},
   "outputs": [
    {
     "name": "stdout",
     "output_type": "stream",
     "text": [
      "1 3 5 7 9 \n",
      "Done\n"
     ]
    }
   ],
   "source": [
    "N = 10\n",
    "i = 1\n",
    "while i <= N:\n",
    "    print(i, end=' ')\n",
    "    i += 2\n",
    "print('\\nDone')"
   ]
  },
  {
   "cell_type": "code",
   "execution_count": 14,
   "id": "639c50c2",
   "metadata": {},
   "outputs": [
    {
     "name": "stdout",
     "output_type": "stream",
     "text": [
      "2 |4 |6 |8 |10 |"
     ]
    }
   ],
   "source": [
    "i = 2\n",
    "while i <= 10:\n",
    "    print(i, end=' |')\n",
    "    i += 2"
   ]
  },
  {
   "cell_type": "markdown",
   "id": "7a622446",
   "metadata": {},
   "source": [
    "# 2  |4  |6  |8  |10|\n"
   ]
  },
  {
   "cell_type": "markdown",
   "id": "0d2dafa0",
   "metadata": {},
   "source": [
    "## Print the first N Multiples of 4"
   ]
  },
  {
   "cell_type": "code",
   "execution_count": 15,
   "id": "cf315aec",
   "metadata": {},
   "outputs": [
    {
     "name": "stdout",
     "output_type": "stream",
     "text": [
      "4 8 12 16 20 24 28 32 36 40 44 48 52 56 60 "
     ]
    }
   ],
   "source": [
    "N = 15\n",
    "i = 4\n",
    "while i <= 4*N:\n",
    "    print(i, end=' ')\n",
    "    i += 4"
   ]
  },
  {
   "cell_type": "markdown",
   "id": "f6293ef4",
   "metadata": {},
   "source": [
    "## Print the first N Multiples of num input from the user"
   ]
  },
  {
   "cell_type": "code",
   "execution_count": 32,
   "id": "58383241",
   "metadata": {},
   "outputs": [
    {
     "name": "stdout",
     "output_type": "stream",
     "text": [
      "6\n",
      "6 12 18 24 30 36 42 48 54 60 66 72 78 84 90 "
     ]
    }
   ],
   "source": [
    "input_num = int(input())\n",
    "N = 15\n",
    "i = input_num\n",
    "while i <= (input_num)*N:\n",
    "    print(i, end=' ')\n",
    "    i += input_num"
   ]
  },
  {
   "cell_type": "markdown",
   "id": "6fb7f873",
   "metadata": {},
   "source": [
    "## Print powers of 2"
   ]
  },
  {
   "cell_type": "code",
   "execution_count": 34,
   "id": "e4e0ca9f",
   "metadata": {},
   "outputs": [
    {
     "name": "stdout",
     "output_type": "stream",
     "text": [
      "2 4 8 16 32 \n",
      "Done\n"
     ]
    }
   ],
   "source": [
    "N = 5\n",
    "i = 1\n",
    "while i <= N:\n",
    "    print(2**i, end=' ')\n",
    "    i += 1\n",
    "print('\\nDone')"
   ]
  },
  {
   "cell_type": "code",
   "execution_count": 36,
   "id": "06f56e84",
   "metadata": {},
   "outputs": [
    {
     "name": "stdout",
     "output_type": "stream",
     "text": [
      "2 4 8 16 32 \n",
      "Done\n"
     ]
    }
   ],
   "source": [
    "i = 1\n",
    "res = 1\n",
    "N = 5\n",
    "while i <= N:\n",
    "    res *= 2\n",
    "    print(res, end=' ')\n",
    "    i += 1\n",
    "print('\\nDone')"
   ]
  },
  {
   "cell_type": "code",
   "execution_count": null,
   "id": "5e3e761d",
   "metadata": {},
   "outputs": [],
   "source": []
  }
 ],
 "metadata": {
  "kernelspec": {
   "display_name": "Python 3 (ipykernel)",
   "language": "python",
   "name": "python3"
  },
  "language_info": {
   "codemirror_mode": {
    "name": "ipython",
    "version": 3
   },
   "file_extension": ".py",
   "mimetype": "text/x-python",
   "name": "python",
   "nbconvert_exporter": "python",
   "pygments_lexer": "ipython3",
   "version": "3.9.12"
  }
 },
 "nbformat": 4,
 "nbformat_minor": 5
}
