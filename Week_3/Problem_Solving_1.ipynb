{
 "cells": [
  {
   "cell_type": "markdown",
   "id": "3416a024",
   "metadata": {},
   "source": [
    "# Iteration - Problem Solving"
   ]
  },
  {
   "cell_type": "markdown",
   "id": "4b3ada63",
   "metadata": {},
   "source": [
    "## Warm up - while and for loops"
   ]
  },
  {
   "cell_type": "code",
   "execution_count": 3,
   "id": "456d545f",
   "metadata": {},
   "outputs": [
    {
     "name": "stdout",
     "output_type": "stream",
     "text": [
      "1 3 5 7 9 11 "
     ]
    }
   ],
   "source": [
    "i = 1\n",
    "\n",
    "while i <= 11:\n",
    "    print(i, end=' ')\n",
    "    i += 2"
   ]
  },
  {
   "cell_type": "markdown",
   "id": "ba8a48f6",
   "metadata": {},
   "source": [
    "### Quiz"
   ]
  },
  {
   "cell_type": "markdown",
   "id": "d873ff84",
   "metadata": {},
   "source": [
    "Print: 10, 7, 4, 1"
   ]
  },
  {
   "cell_type": "code",
   "execution_count": 4,
   "id": "cc7a7449",
   "metadata": {},
   "outputs": [
    {
     "name": "stdout",
     "output_type": "stream",
     "text": [
      "10,7,4,1,"
     ]
    }
   ],
   "source": [
    "for i in range(10, -1, -3):\n",
    "    print(i, end = ',')"
   ]
  },
  {
   "cell_type": "code",
   "execution_count": 5,
   "id": "48cbad8f",
   "metadata": {},
   "outputs": [
    {
     "name": "stdout",
     "output_type": "stream",
     "text": [
      "10,7,4,1"
     ]
    }
   ],
   "source": [
    "for i in range(10, -1, -3):\n",
    "    if i == 1:\n",
    "        print(i, end = '')\n",
    "    else: # i = 10, 7, 4\n",
    "        print(i, end = ',') # end with a comma"
   ]
  },
  {
   "cell_type": "code",
   "execution_count": 7,
   "id": "fdee9c87",
   "metadata": {},
   "outputs": [
    {
     "name": "stdout",
     "output_type": "stream",
     "text": [
      "1, 3, 5, 7, 9, 11"
     ]
    }
   ],
   "source": [
    "i = 1\n",
    "\n",
    "while i <= 11:\n",
    "    if i == 11:\n",
    "        print(i, end='') # end with empty\n",
    "    else:\n",
    "        print(i, end=', ') # comma and space\n",
    "    i += 2"
   ]
  },
  {
   "cell_type": "markdown",
   "id": "9250ca6d",
   "metadata": {},
   "source": [
    "## Q2: Print the numbers* tricky"
   ]
  },
  {
   "cell_type": "markdown",
   "id": "67a7b40d",
   "metadata": {},
   "source": [
    "1, 3, 6, 10, 15, 21"
   ]
  },
  {
   "cell_type": "code",
   "execution_count": 13,
   "id": "18f9c0a6",
   "metadata": {},
   "outputs": [
    {
     "name": "stdout",
     "output_type": "stream",
     "text": [
      "1 3 6 10 15 21 "
     ]
    }
   ],
   "source": [
    "i = 1\n",
    "j = 2\n",
    "while i <= 21:\n",
    "    print(i, end=' ')\n",
    "    i += j\n",
    "    j += 1"
   ]
  },
  {
   "cell_type": "code",
   "execution_count": 11,
   "id": "8ca23bb0",
   "metadata": {},
   "outputs": [
    {
     "name": "stdout",
     "output_type": "stream",
     "text": [
      "1 3 5 7 9 11 "
     ]
    }
   ],
   "source": [
    "i = 1\n",
    "step = 2\n",
    "\n",
    "while i <= 11:\n",
    "    print(i, end=' ')\n",
    "    \n",
    "    i += step"
   ]
  },
  {
   "cell_type": "markdown",
   "id": "0db9f3ff",
   "metadata": {},
   "source": [
    "## Q3: Count factors"
   ]
  },
  {
   "cell_type": "code",
   "execution_count": 14,
   "id": "4720c09d",
   "metadata": {},
   "outputs": [
    {
     "name": "stdout",
     "output_type": "stream",
     "text": [
      "1 2 3 4 6 8 12 24 "
     ]
    }
   ],
   "source": [
    "N = 24\n",
    "\n",
    "for i in range(1, N + 1):\n",
    "    if N % i == 0:\n",
    "        print(i, end=' ')"
   ]
  },
  {
   "cell_type": "code",
   "execution_count": 15,
   "id": "4051fe12",
   "metadata": {},
   "outputs": [
    {
     "name": "stdout",
     "output_type": "stream",
     "text": [
      "8\n"
     ]
    }
   ],
   "source": [
    "N = 24\n",
    "\n",
    "c = 0\n",
    "for i in range(1, N + 1):\n",
    "    if N % i == 0:\n",
    "        c += 1\n",
    "        \n",
    "print(c)"
   ]
  },
  {
   "cell_type": "code",
   "execution_count": 30,
   "id": "7449b947",
   "metadata": {},
   "outputs": [
    {
     "name": "stdout",
     "output_type": "stream",
     "text": [
      "3\n"
     ]
    }
   ],
   "source": [
    "N = 9\n",
    "\n",
    "c = 0\n",
    "for i in range(1, N + 1):\n",
    "    if N % i == 0:\n",
    "        c += 1\n",
    "        \n",
    "print(c)"
   ]
  },
  {
   "cell_type": "markdown",
   "id": "5757b59c",
   "metadata": {},
   "source": [
    "## Q4: Check prime"
   ]
  },
  {
   "cell_type": "code",
   "execution_count": 43,
   "id": "136ced52",
   "metadata": {},
   "outputs": [
    {
     "name": "stdout",
     "output_type": "stream",
     "text": [
      "Prime\n"
     ]
    }
   ],
   "source": [
    "N = 17\n",
    "\n",
    "c = 0\n",
    "for i in range(1, N + 1):\n",
    "    if N % i == 0:\n",
    "        c += 1\n",
    "        \n",
    "# 1 and N => 2 factors\n",
    "if c == 2:\n",
    "    print('Prime')\n",
    "else:\n",
    "    print('Not Prime')"
   ]
  },
  {
   "cell_type": "code",
   "execution_count": 42,
   "id": "6693df82",
   "metadata": {},
   "outputs": [
    {
     "name": "stdout",
     "output_type": "stream",
     "text": [
      "Not Prime\n"
     ]
    }
   ],
   "source": [
    "N = 10\n",
    "\n",
    "c = 0\n",
    "for i in range(1, N + 1):\n",
    "    if N % i == 0:\n",
    "        c += 1\n",
    "        \n",
    "# 1 and N => 2 factors\n",
    "if c == 2:\n",
    "    print('Prime')\n",
    "else:\n",
    "    print('Not Prime')"
   ]
  },
  {
   "cell_type": "markdown",
   "id": "1d98c8e4",
   "metadata": {},
   "source": [
    "## Q5. Logarithm"
   ]
  },
  {
   "cell_type": "code",
   "execution_count": 44,
   "id": "c37d08cb",
   "metadata": {},
   "outputs": [],
   "source": [
    "import math"
   ]
  },
  {
   "cell_type": "code",
   "execution_count": 48,
   "id": "cc29438f",
   "metadata": {},
   "outputs": [
    {
     "data": {
      "text/plain": [
       "4.0"
      ]
     },
     "execution_count": 48,
     "metadata": {},
     "output_type": "execute_result"
    }
   ],
   "source": [
    "math.log(36**2, 6)"
   ]
  },
  {
   "cell_type": "markdown",
   "id": "f1a5e036",
   "metadata": {},
   "source": [
    "## Q6. PSP Based"
   ]
  },
  {
   "cell_type": "code",
   "execution_count": 51,
   "id": "2c46622a",
   "metadata": {},
   "outputs": [
    {
     "name": "stdout",
     "output_type": "stream",
     "text": [
      "quotient: 3\n",
      "remainder: 1\n"
     ]
    }
   ],
   "source": [
    "x = 7\n",
    "y = 2\n",
    "\n",
    "q = 0\n",
    "# r = 0 -> not of any use\n",
    "while x >= y:\n",
    "    x -= y # division is repeated subtraction\n",
    "    q += 1\n",
    "\n",
    "print('quotient:', q)\n",
    "print('remainder:', x)"
   ]
  },
  {
   "cell_type": "markdown",
   "id": "cae43076",
   "metadata": {},
   "source": [
    "## Break"
   ]
  },
  {
   "cell_type": "markdown",
   "id": "f314a1aa",
   "metadata": {},
   "source": [
    "## Q7. Convert binary to decimal"
   ]
  },
  {
   "cell_type": "markdown",
   "id": "1fb0a855",
   "metadata": {},
   "source": [
    "## Count no of 1s"
   ]
  },
  {
   "cell_type": "code",
   "execution_count": 55,
   "id": "0bef48df",
   "metadata": {},
   "outputs": [
    {
     "name": "stdout",
     "output_type": "stream",
     "text": [
      "1111000000001\n",
      "5\n"
     ]
    }
   ],
   "source": [
    "N = int(input())\n",
    "\n",
    "c = 0\n",
    "while N > 0:\n",
    "    dig = N % 10\n",
    "    if dig == 1:\n",
    "        c += 1\n",
    "    N = N//10\n",
    "\n",
    "print(c)"
   ]
  },
  {
   "cell_type": "markdown",
   "id": "f68138f1",
   "metadata": {},
   "source": [
    "## Convert binary to decimal"
   ]
  },
  {
   "cell_type": "code",
   "execution_count": 61,
   "id": "0589483f",
   "metadata": {},
   "outputs": [
    {
     "name": "stdout",
     "output_type": "stream",
     "text": [
      "digit: 1\n",
      "power: 1\n",
      "\n",
      "digit: 1\n",
      "power: 2\n",
      "\n",
      "digit: 0\n",
      "power: 4\n",
      "\n",
      "digit: 1\n",
      "power: 8\n",
      "\n"
     ]
    }
   ],
   "source": [
    "N = 1011\n",
    "\n",
    "i = 0\n",
    "while N > 0:\n",
    "    dig = N % 10\n",
    "    print('digit:', dig)\n",
    "    val = dig * (2 ** i)\n",
    "    print('power:', 2**i)\n",
    "#     print('value:', val)\n",
    "    i += 1\n",
    "    print() # this is how you can print a new line\n",
    "    \n",
    "    N = N // 10"
   ]
  },
  {
   "cell_type": "code",
   "execution_count": 64,
   "id": "dc9d1c91",
   "metadata": {},
   "outputs": [
    {
     "name": "stdout",
     "output_type": "stream",
     "text": [
      "1 2 0 8 \n",
      "11\n"
     ]
    }
   ],
   "source": [
    "N = 1011\n",
    "ans = 0\n",
    "i = 0\n",
    "while N > 0:\n",
    "    dig = N % 10\n",
    "    val = dig * (2 ** i)\n",
    "    i += 1\n",
    "    ans += val\n",
    "    print(val, end=' ')\n",
    "    N = N // 10\n",
    "\n",
    "print()\n",
    "print(ans)"
   ]
  },
  {
   "cell_type": "markdown",
   "id": "aac03f60",
   "metadata": {},
   "source": [
    "## Q8. Take multiple inputs (T)"
   ]
  },
  {
   "cell_type": "code",
   "execution_count": 66,
   "id": "b38f2b4a",
   "metadata": {},
   "outputs": [
    {
     "name": "stdout",
     "output_type": "stream",
     "text": [
      "4\n",
      "6\n",
      "Output: 6\n",
      "4\n",
      "Output: 4\n",
      "1\n",
      "Output: 1\n",
      "3\n",
      "Output: 3\n"
     ]
    }
   ],
   "source": [
    "T = int(input()) # T = 4\n",
    "i = 1\n",
    "while i <= T: # i = 5 => False\n",
    "    n = int(input()) # n = 3\n",
    "    print('Output:', n)\n",
    "    i += 1\n",
    "\n",
    "# Output:\n",
    "# 6\n",
    "# 4\n",
    "# 1\n",
    "# 3"
   ]
  },
  {
   "cell_type": "code",
   "execution_count": 67,
   "id": "a86827d1",
   "metadata": {},
   "outputs": [
    {
     "name": "stdout",
     "output_type": "stream",
     "text": [
      "5\n",
      "5\n",
      "Output: 5\n",
      "6\n",
      "Output: 6\n",
      "1\n",
      "Output: 1\n",
      "-20\n",
      "Output: -20\n",
      "60\n",
      "Output: 60\n"
     ]
    }
   ],
   "source": [
    "T = int(input()) # T = 4\n",
    "i = 1\n",
    "while i <= T: # i = 5 => False\n",
    "    n = int(input()) # n = 3\n",
    "    print('Output:', n)\n",
    "    i += 1\n",
    "\n",
    "# Output:\n",
    "# 6\n",
    "# 4\n",
    "# 1\n",
    "# 3"
   ]
  },
  {
   "cell_type": "markdown",
   "id": "856fbf10",
   "metadata": {},
   "source": [
    "## Q8.ii. Take multiple inputs (T) and print the reverse of each number."
   ]
  },
  {
   "cell_type": "code",
   "execution_count": 68,
   "id": "24205a8e",
   "metadata": {},
   "outputs": [
    {
     "name": "stdout",
     "output_type": "stream",
     "text": [
      "4\n",
      "1234\n",
      "Output: 1234\n",
      "4 3 2 1 \n",
      "62\n",
      "Output: 62\n",
      "2 6 \n",
      "9\n",
      "Output: 9\n",
      "9 \n",
      "546308562\n",
      "Output: 546308562\n",
      "2 6 5 8 0 3 6 4 5 \n"
     ]
    }
   ],
   "source": [
    "T = int(input()) # T = 4\n",
    "i = 1\n",
    "while i <= T:\n",
    "    n = int(input())\n",
    "    print('Output:', n)\n",
    "    i += 1\n",
    "    while n > 0:\n",
    "        dig = n % 10\n",
    "        print(dig, end=' ')\n",
    "        n = n//10\n",
    "    print() # new line"
   ]
  },
  {
   "cell_type": "code",
   "execution_count": 72,
   "id": "6f0964e5",
   "metadata": {},
   "outputs": [
    {
     "name": "stdout",
     "output_type": "stream",
     "text": [
      "5\n",
      "1214\n",
      "Reverse: 4121\n",
      "52450\n",
      "Reverse: 05425\n",
      "145710845\n",
      "Reverse: 548017541\n",
      "999\n",
      "Reverse: 999\n",
      "7325\n",
      "Reverse: 5237\n"
     ]
    }
   ],
   "source": [
    "T = int(input())\n",
    "i = 1\n",
    "while i <= T:\n",
    "    n = int(input())\n",
    "    i += 1\n",
    "    print('Reverse:', end=' ')\n",
    "    while n > 0:\n",
    "        dig = n % 10\n",
    "        print(dig, end='')\n",
    "        n = n//10\n",
    "    print() # new line"
   ]
  },
  {
   "cell_type": "markdown",
   "id": "b9a8dae2",
   "metadata": {},
   "source": [
    "## Q8.iii. Take multiple inputs (T) and print the count and sum of digits in each number."
   ]
  },
  {
   "cell_type": "code",
   "execution_count": 73,
   "id": "f8a3c8fc",
   "metadata": {},
   "outputs": [],
   "source": [
    "# HW"
   ]
  },
  {
   "cell_type": "markdown",
   "id": "a0876729",
   "metadata": {},
   "source": [
    "## Doubts"
   ]
  },
  {
   "cell_type": "code",
   "execution_count": 87,
   "id": "6828067c",
   "metadata": {},
   "outputs": [
    {
     "name": "stdout",
     "output_type": "stream",
     "text": [
      "10\n",
      "0,2,4,6,8,10"
     ]
    }
   ],
   "source": [
    "N = int(input())\n",
    "for i in range(0, N + 1, 2):\n",
    "    if i == N or i == N - 1:\n",
    "        print(i, end='')\n",
    "    else:\n",
    "        print(i, end=',')"
   ]
  }
 ],
 "metadata": {
  "kernelspec": {
   "display_name": "Python 3 (ipykernel)",
   "language": "python",
   "name": "python3"
  },
  "language_info": {
   "codemirror_mode": {
    "name": "ipython",
    "version": 3
   },
   "file_extension": ".py",
   "mimetype": "text/x-python",
   "name": "python",
   "nbconvert_exporter": "python",
   "pygments_lexer": "ipython3",
   "version": "3.9.12"
  }
 },
 "nbformat": 4,
 "nbformat_minor": 5
}
