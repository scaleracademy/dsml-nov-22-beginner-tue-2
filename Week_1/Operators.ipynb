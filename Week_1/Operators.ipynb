{
 "cells": [
  {
   "cell_type": "markdown",
   "id": "527e0753",
   "metadata": {},
   "source": [
    "## Operators"
   ]
  },
  {
   "cell_type": "markdown",
   "id": "abdc9918",
   "metadata": {},
   "source": [
    "## Arthmetic Operators"
   ]
  },
  {
   "cell_type": "code",
   "execution_count": 1,
   "id": "62b73542",
   "metadata": {},
   "outputs": [],
   "source": [
    "# +, *, - /"
   ]
  },
  {
   "cell_type": "markdown",
   "id": "5c54b6ae",
   "metadata": {},
   "source": [
    "## Addition"
   ]
  },
  {
   "cell_type": "code",
   "execution_count": 2,
   "id": "d352b807",
   "metadata": {},
   "outputs": [],
   "source": [
    "x = 5\n",
    "y = 7\n",
    "res = x + y\n",
    "# step 1 => x + y gets added => 5 + 7 = 12\n",
    "# step 2 => 12 gets assigned to res variable"
   ]
  },
  {
   "cell_type": "code",
   "execution_count": 3,
   "id": "e696f07c",
   "metadata": {},
   "outputs": [
    {
     "name": "stdout",
     "output_type": "stream",
     "text": [
      "12\n"
     ]
    }
   ],
   "source": [
    "print(res)"
   ]
  },
  {
   "cell_type": "code",
   "execution_count": 4,
   "id": "478cc059",
   "metadata": {},
   "outputs": [
    {
     "data": {
      "text/plain": [
       "int"
      ]
     },
     "execution_count": 4,
     "metadata": {},
     "output_type": "execute_result"
    }
   ],
   "source": [
    "type(res)"
   ]
  },
  {
   "cell_type": "code",
   "execution_count": 5,
   "id": "7867c66b",
   "metadata": {},
   "outputs": [
    {
     "name": "stdout",
     "output_type": "stream",
     "text": [
      "5.4\n"
     ]
    }
   ],
   "source": [
    "x = 2\n",
    "y = 3.4\n",
    "res = x + y\n",
    "\n",
    "print(res)"
   ]
  },
  {
   "cell_type": "code",
   "execution_count": 6,
   "id": "609f1b01",
   "metadata": {},
   "outputs": [
    {
     "name": "stdout",
     "output_type": "stream",
     "text": [
      "14.4\n"
     ]
    }
   ],
   "source": [
    "print(5.4 + 9)"
   ]
  },
  {
   "cell_type": "code",
   "execution_count": 7,
   "id": "fdd04f7e",
   "metadata": {},
   "outputs": [
    {
     "name": "stdout",
     "output_type": "stream",
     "text": [
      "15.1\n"
     ]
    }
   ],
   "source": [
    "print(5.4 + 9.7)"
   ]
  },
  {
   "cell_type": "markdown",
   "id": "2ab452a3",
   "metadata": {},
   "source": [
    "## Quiz - 1"
   ]
  },
  {
   "cell_type": "code",
   "execution_count": 8,
   "id": "e2befe31",
   "metadata": {},
   "outputs": [
    {
     "name": "stdout",
     "output_type": "stream",
     "text": [
      "3.0\n"
     ]
    }
   ],
   "source": [
    "print(1.0 + 2)"
   ]
  },
  {
   "cell_type": "code",
   "execution_count": 9,
   "id": "f93810c7",
   "metadata": {},
   "outputs": [
    {
     "data": {
      "text/plain": [
       "float"
      ]
     },
     "execution_count": 9,
     "metadata": {},
     "output_type": "execute_result"
    }
   ],
   "source": [
    "type(3.0)"
   ]
  },
  {
   "cell_type": "markdown",
   "id": "95e61d3e",
   "metadata": {},
   "source": [
    "## Subtraction"
   ]
  },
  {
   "cell_type": "code",
   "execution_count": 10,
   "id": "1c1f7863",
   "metadata": {},
   "outputs": [
    {
     "name": "stdout",
     "output_type": "stream",
     "text": [
      "-4\n"
     ]
    }
   ],
   "source": [
    "x = 1\n",
    "y = 5\n",
    "res = x - y\n",
    "print(res)"
   ]
  },
  {
   "cell_type": "code",
   "execution_count": 11,
   "id": "019e3439",
   "metadata": {},
   "outputs": [
    {
     "name": "stdout",
     "output_type": "stream",
     "text": [
      "3.5\n"
     ]
    }
   ],
   "source": [
    "x = 5\n",
    "y = 1.5\n",
    "res = x - y\n",
    "print(res)"
   ]
  },
  {
   "cell_type": "markdown",
   "id": "eaad8ccb",
   "metadata": {},
   "source": [
    "## Quiz - 2"
   ]
  },
  {
   "cell_type": "code",
   "execution_count": 12,
   "id": "11e1d4b7",
   "metadata": {},
   "outputs": [
    {
     "name": "stdout",
     "output_type": "stream",
     "text": [
      "3.0\n"
     ]
    }
   ],
   "source": [
    "x = 1\n",
    "y = -2.0\n",
    "print(x - y)"
   ]
  },
  {
   "cell_type": "markdown",
   "id": "a6b68b21",
   "metadata": {},
   "source": [
    "## Multiplication"
   ]
  },
  {
   "cell_type": "code",
   "execution_count": 13,
   "id": "2acd6729",
   "metadata": {},
   "outputs": [
    {
     "name": "stdout",
     "output_type": "stream",
     "text": [
      "32\n"
     ]
    }
   ],
   "source": [
    "x = 4\n",
    "y = 8\n",
    "print(x * y)"
   ]
  },
  {
   "cell_type": "code",
   "execution_count": 14,
   "id": "e95f80f9",
   "metadata": {},
   "outputs": [
    {
     "name": "stdout",
     "output_type": "stream",
     "text": [
      "-6\n"
     ]
    }
   ],
   "source": [
    "print(3 * -2)"
   ]
  },
  {
   "cell_type": "markdown",
   "id": "cd62667f",
   "metadata": {},
   "source": [
    "## Quiz - 3"
   ]
  },
  {
   "cell_type": "code",
   "execution_count": 15,
   "id": "9a24afc4",
   "metadata": {},
   "outputs": [
    {
     "name": "stdout",
     "output_type": "stream",
     "text": [
      "32\n"
     ]
    }
   ],
   "source": [
    "x = -4\n",
    "y = -8\n",
    "print(x * y)"
   ]
  },
  {
   "cell_type": "code",
   "execution_count": 16,
   "id": "ff3e3e7e",
   "metadata": {},
   "outputs": [
    {
     "name": "stdout",
     "output_type": "stream",
     "text": [
      "7.0\n"
     ]
    }
   ],
   "source": [
    "print(3.5 * 2)"
   ]
  },
  {
   "cell_type": "code",
   "execution_count": 17,
   "id": "f687caa4",
   "metadata": {},
   "outputs": [
    {
     "name": "stdout",
     "output_type": "stream",
     "text": [
      "8.75\n"
     ]
    }
   ],
   "source": [
    "print(3.5 * 2.5)"
   ]
  },
  {
   "cell_type": "markdown",
   "id": "362215ec",
   "metadata": {},
   "source": [
    "## Division"
   ]
  },
  {
   "cell_type": "code",
   "execution_count": 18,
   "id": "d18b7553",
   "metadata": {},
   "outputs": [
    {
     "name": "stdout",
     "output_type": "stream",
     "text": [
      "5.0\n"
     ]
    }
   ],
   "source": [
    "x = 10\n",
    "y = 2\n",
    "res = x / y\n",
    "\n",
    "print(res)"
   ]
  },
  {
   "cell_type": "code",
   "execution_count": 20,
   "id": "1053dec0",
   "metadata": {},
   "outputs": [
    {
     "name": "stdout",
     "output_type": "stream",
     "text": [
      "5.0\n"
     ]
    }
   ],
   "source": [
    "x = 15\n",
    "y = 3\n",
    "print(x / y)"
   ]
  },
  {
   "cell_type": "code",
   "execution_count": 21,
   "id": "5029dbd1",
   "metadata": {},
   "outputs": [
    {
     "name": "stdout",
     "output_type": "stream",
     "text": [
      "1.6666666666666667\n"
     ]
    }
   ],
   "source": [
    "x = 5\n",
    "y = 3\n",
    "print(x / y)"
   ]
  },
  {
   "cell_type": "markdown",
   "id": "7cfe9057",
   "metadata": {},
   "source": [
    "## Quiz - 4"
   ]
  },
  {
   "cell_type": "code",
   "execution_count": 22,
   "id": "ff737f24",
   "metadata": {},
   "outputs": [
    {
     "name": "stdout",
     "output_type": "stream",
     "text": [
      "4.0\n"
     ]
    }
   ],
   "source": [
    "x = 10\n",
    "y = 2.5\n",
    "print(x / y)"
   ]
  },
  {
   "cell_type": "markdown",
   "id": "48e13ba6",
   "metadata": {},
   "source": [
    "## Problem"
   ]
  },
  {
   "cell_type": "markdown",
   "id": "9efa3c5d",
   "metadata": {},
   "source": [
    "Given minutes as input, convert them into hours."
   ]
  },
  {
   "cell_type": "markdown",
   "id": "9c96c497",
   "metadata": {},
   "source": [
    "120 => 2\n",
    "\n",
    "150 => 2.5"
   ]
  },
  {
   "cell_type": "code",
   "execution_count": 27,
   "id": "72a47187",
   "metadata": {},
   "outputs": [
    {
     "name": "stdout",
     "output_type": "stream",
     "text": [
      "150\n",
      "2.5\n"
     ]
    }
   ],
   "source": [
    "m = int(input())\n",
    "\n",
    "h = m / 60\n",
    "print(h)"
   ]
  },
  {
   "cell_type": "markdown",
   "id": "1e67eea2",
   "metadata": {},
   "source": [
    "## Exponent"
   ]
  },
  {
   "cell_type": "code",
   "execution_count": 28,
   "id": "e5a3158d",
   "metadata": {},
   "outputs": [
    {
     "name": "stdout",
     "output_type": "stream",
     "text": [
      "32\n"
     ]
    }
   ],
   "source": [
    "print(2 ** 5)"
   ]
  },
  {
   "cell_type": "code",
   "execution_count": 29,
   "id": "5f893163",
   "metadata": {},
   "outputs": [
    {
     "name": "stdout",
     "output_type": "stream",
     "text": [
      "8\n"
     ]
    }
   ],
   "source": [
    "print(2 ** 3)"
   ]
  },
  {
   "cell_type": "code",
   "execution_count": 30,
   "id": "801c623b",
   "metadata": {},
   "outputs": [
    {
     "name": "stdout",
     "output_type": "stream",
     "text": [
      "1\n"
     ]
    }
   ],
   "source": [
    "print(1 ** 12391317402104717213071036103)"
   ]
  },
  {
   "cell_type": "code",
   "execution_count": 31,
   "id": "a0f8ac30",
   "metadata": {},
   "outputs": [
    {
     "name": "stdout",
     "output_type": "stream",
     "text": [
      "0\n"
     ]
    }
   ],
   "source": [
    "print(0 ** 23192739172301731723081273170831803612)"
   ]
  },
  {
   "cell_type": "code",
   "execution_count": 35,
   "id": "044bd6f8",
   "metadata": {},
   "outputs": [
    {
     "name": "stdout",
     "output_type": "stream",
     "text": [
      "4294967296\n"
     ]
    }
   ],
   "source": [
    "print(2 ** 32)"
   ]
  },
  {
   "cell_type": "code",
   "execution_count": 36,
   "id": "9b13873c",
   "metadata": {},
   "outputs": [
    {
     "name": "stdout",
     "output_type": "stream",
     "text": [
      "27\n"
     ]
    }
   ],
   "source": [
    "print(3 ** 3)"
   ]
  },
  {
   "cell_type": "markdown",
   "id": "e9f0219e",
   "metadata": {},
   "source": [
    "## Floor Division and Modulo"
   ]
  },
  {
   "cell_type": "code",
   "execution_count": 37,
   "id": "fb1535dc",
   "metadata": {},
   "outputs": [],
   "source": [
    "chocolates = 100\n",
    "people = 32"
   ]
  },
  {
   "cell_type": "code",
   "execution_count": 41,
   "id": "ce6a6885",
   "metadata": {},
   "outputs": [
    {
     "name": "stdout",
     "output_type": "stream",
     "text": [
      "3.125\n"
     ]
    }
   ],
   "source": [
    "per_person = chocolates / people\n",
    "print(per_person)"
   ]
  },
  {
   "cell_type": "code",
   "execution_count": 42,
   "id": "a92b7c3d",
   "metadata": {},
   "outputs": [
    {
     "name": "stdout",
     "output_type": "stream",
     "text": [
      "3\n"
     ]
    }
   ],
   "source": [
    "per_person = chocolates // people\n",
    "print(per_person)"
   ]
  },
  {
   "cell_type": "code",
   "execution_count": 43,
   "id": "987f5717",
   "metadata": {},
   "outputs": [
    {
     "data": {
      "text/plain": [
       "3"
      ]
     },
     "execution_count": 43,
     "metadata": {},
     "output_type": "execute_result"
    }
   ],
   "source": [
    "100 // 32 "
   ]
  },
  {
   "cell_type": "code",
   "execution_count": 44,
   "id": "faecc0c9",
   "metadata": {},
   "outputs": [
    {
     "data": {
      "text/plain": [
       "4"
      ]
     },
     "execution_count": 44,
     "metadata": {},
     "output_type": "execute_result"
    }
   ],
   "source": [
    "100 % 32"
   ]
  },
  {
   "cell_type": "markdown",
   "id": "9b876aa8",
   "metadata": {},
   "source": [
    "## Modulo"
   ]
  },
  {
   "cell_type": "code",
   "execution_count": 45,
   "id": "257d5850",
   "metadata": {},
   "outputs": [
    {
     "name": "stdout",
     "output_type": "stream",
     "text": [
      "0\n"
     ]
    }
   ],
   "source": [
    "x = 15\n",
    "y = 3\n",
    "print(x % y)"
   ]
  },
  {
   "cell_type": "code",
   "execution_count": 49,
   "id": "e3c9ceca",
   "metadata": {},
   "outputs": [
    {
     "name": "stdout",
     "output_type": "stream",
     "text": [
      "5\n"
     ]
    },
    {
     "data": {
      "text/plain": [
       "int"
      ]
     },
     "execution_count": 49,
     "metadata": {},
     "output_type": "execute_result"
    }
   ],
   "source": [
    "res = x // y\n",
    "print(res)\n",
    "type(res)"
   ]
  },
  {
   "cell_type": "code",
   "execution_count": 48,
   "id": "8ed625e5",
   "metadata": {},
   "outputs": [],
   "source": [
    "# floor division => an int"
   ]
  },
  {
   "cell_type": "code",
   "execution_count": 50,
   "id": "a9097948",
   "metadata": {},
   "outputs": [
    {
     "name": "stdout",
     "output_type": "stream",
     "text": [
      "-3\n"
     ]
    }
   ],
   "source": [
    "x = -5\n",
    "print(x // 2)"
   ]
  },
  {
   "cell_type": "code",
   "execution_count": 51,
   "id": "feea82c2",
   "metadata": {},
   "outputs": [
    {
     "name": "stdout",
     "output_type": "stream",
     "text": [
      "2\n"
     ]
    }
   ],
   "source": [
    "y = 5\n",
    "print(y // 2)"
   ]
  },
  {
   "cell_type": "markdown",
   "id": "40630c49",
   "metadata": {},
   "source": [
    "## Quiz - 7"
   ]
  },
  {
   "cell_type": "code",
   "execution_count": 52,
   "id": "f9332b1f",
   "metadata": {},
   "outputs": [
    {
     "ename": "ZeroDivisionError",
     "evalue": "integer division or modulo by zero",
     "output_type": "error",
     "traceback": [
      "\u001b[0;31m---------------------------------------------------------------------------\u001b[0m",
      "\u001b[0;31mZeroDivisionError\u001b[0m                         Traceback (most recent call last)",
      "Input \u001b[0;32mIn [52]\u001b[0m, in \u001b[0;36m<cell line: 2>\u001b[0;34m()\u001b[0m\n\u001b[1;32m      1\u001b[0m x \u001b[38;5;241m=\u001b[39m \u001b[38;5;241m10\u001b[39m\n\u001b[0;32m----> 2\u001b[0m \u001b[38;5;28mprint\u001b[39m(\u001b[43mx\u001b[49m\u001b[43m \u001b[49m\u001b[38;5;241;43m/\u001b[39;49m\u001b[38;5;241;43m/\u001b[39;49m\u001b[43m \u001b[49m\u001b[38;5;241;43m0\u001b[39;49m)\n",
      "\u001b[0;31mZeroDivisionError\u001b[0m: integer division or modulo by zero"
     ]
    }
   ],
   "source": [
    "x = 10\n",
    "print(x // 0)"
   ]
  },
  {
   "cell_type": "markdown",
   "id": "d115a17a",
   "metadata": {},
   "source": [
    "## Problem 2:\n",
    "How can we use modulo to check if a number is even or odd?"
   ]
  },
  {
   "cell_type": "code",
   "execution_count": 53,
   "id": "6bee12eb",
   "metadata": {},
   "outputs": [
    {
     "name": "stdout",
     "output_type": "stream",
     "text": [
      "1\n"
     ]
    }
   ],
   "source": [
    "x = 15\n",
    "print(x % 2)"
   ]
  },
  {
   "cell_type": "code",
   "execution_count": 54,
   "id": "ddaaa50d",
   "metadata": {},
   "outputs": [
    {
     "name": "stdout",
     "output_type": "stream",
     "text": [
      "0\n"
     ]
    }
   ],
   "source": [
    "y = 18\n",
    "print(y % 2)"
   ]
  },
  {
   "cell_type": "markdown",
   "id": "4cd6ec26",
   "metadata": {},
   "source": [
    "## BODMAS"
   ]
  },
  {
   "cell_type": "markdown",
   "id": "7f2f81f5",
   "metadata": {},
   "source": [
    "In this challenge, a farmer is asking you to tell him how many legs can be counted among all his animals.\n",
    "\n",
    "The farmer breeds three species,\n",
    "chickens have two legs,\n",
    "cows have four legs,\n",
    "and pigs have four legs.\n",
    "\n",
    "The farmer has counted his animals\n",
    "and he gives you a subtotal for each species.\n",
    "\n",
    "You have to output the total number of legs of all the animals."
   ]
  },
  {
   "cell_type": "code",
   "execution_count": 56,
   "id": "22ac6ce4",
   "metadata": {},
   "outputs": [
    {
     "name": "stdout",
     "output_type": "stream",
     "text": [
      "3\n",
      "4\n",
      "5\n"
     ]
    }
   ],
   "source": [
    "ch = int(input())\n",
    "co = int(input())\n",
    "pi = int(input())"
   ]
  },
  {
   "cell_type": "code",
   "execution_count": 57,
   "id": "0ba993df",
   "metadata": {},
   "outputs": [
    {
     "name": "stdout",
     "output_type": "stream",
     "text": [
      "42\n"
     ]
    }
   ],
   "source": [
    "legs = 2*ch + 4*co + 4*pi\n",
    "print(legs)"
   ]
  },
  {
   "cell_type": "code",
   "execution_count": 58,
   "id": "abc25a1d",
   "metadata": {},
   "outputs": [
    {
     "data": {
      "text/plain": [
       "42"
      ]
     },
     "execution_count": 58,
     "metadata": {},
     "output_type": "execute_result"
    }
   ],
   "source": [
    "2*ch + 4*co + 4*pi"
   ]
  },
  {
   "cell_type": "code",
   "execution_count": 60,
   "id": "e843d36e",
   "metadata": {},
   "outputs": [
    {
     "data": {
      "text/plain": [
       "42"
      ]
     },
     "execution_count": 60,
     "metadata": {},
     "output_type": "execute_result"
    }
   ],
   "source": [
    "2*ch+4*co+4*pi # BODMAS rule"
   ]
  },
  {
   "cell_type": "markdown",
   "id": "53e6ee95",
   "metadata": {},
   "source": [
    "## BODMAS practice"
   ]
  },
  {
   "cell_type": "code",
   "execution_count": 61,
   "id": "a29f008b",
   "metadata": {},
   "outputs": [
    {
     "data": {
      "text/plain": [
       "2"
      ]
     },
     "execution_count": 61,
     "metadata": {},
     "output_type": "execute_result"
    }
   ],
   "source": [
    "10-4*2"
   ]
  },
  {
   "cell_type": "code",
   "execution_count": 62,
   "id": "5d71a93d",
   "metadata": {},
   "outputs": [
    {
     "data": {
      "text/plain": [
       "12"
      ]
     },
     "execution_count": 62,
     "metadata": {},
     "output_type": "execute_result"
    }
   ],
   "source": [
    "(10-4)*2"
   ]
  },
  {
   "cell_type": "code",
   "execution_count": 63,
   "id": "1923ff7a",
   "metadata": {},
   "outputs": [
    {
     "data": {
      "text/plain": [
       "1.4285714285714286"
      ]
     },
     "execution_count": 63,
     "metadata": {},
     "output_type": "execute_result"
    }
   ],
   "source": [
    "5/7*2"
   ]
  },
  {
   "cell_type": "code",
   "execution_count": 64,
   "id": "2a3c0683",
   "metadata": {},
   "outputs": [
    {
     "data": {
      "text/plain": [
       "0.35714285714285715"
      ]
     },
     "execution_count": 64,
     "metadata": {},
     "output_type": "execute_result"
    }
   ],
   "source": [
    "5/(7*2)"
   ]
  },
  {
   "cell_type": "markdown",
   "id": "ab3c62d6",
   "metadata": {},
   "source": [
    "## Quiz"
   ]
  },
  {
   "cell_type": "code",
   "execution_count": null,
   "id": "0da8e974",
   "metadata": {},
   "outputs": [],
   "source": [
    "x = 11\n",
    "y = 2\n",
    "z = 4\n",
    "res = (x + y - z) ** (x % z)\n",
    "print(res)\n"
   ]
  },
  {
   "cell_type": "markdown",
   "id": "3bd8baa8",
   "metadata": {},
   "source": [
    "## Assignment"
   ]
  },
  {
   "cell_type": "code",
   "execution_count": 65,
   "id": "65808fa4",
   "metadata": {},
   "outputs": [
    {
     "name": "stdout",
     "output_type": "stream",
     "text": [
      "3\n"
     ]
    }
   ],
   "source": [
    "a = 3\n",
    "y = a + 5\n",
    "print(a)"
   ]
  },
  {
   "cell_type": "code",
   "execution_count": 66,
   "id": "cf62a8d3",
   "metadata": {},
   "outputs": [
    {
     "name": "stdout",
     "output_type": "stream",
     "text": [
      "8\n"
     ]
    }
   ],
   "source": [
    "print(y)"
   ]
  },
  {
   "cell_type": "code",
   "execution_count": 68,
   "id": "15d738b8",
   "metadata": {},
   "outputs": [],
   "source": [
    "# 3 = a -> left side has to be a variable"
   ]
  },
  {
   "cell_type": "markdown",
   "id": "8f30bec3",
   "metadata": {},
   "source": [
    "## Grace marks"
   ]
  },
  {
   "cell_type": "code",
   "execution_count": 69,
   "id": "f8768bf4",
   "metadata": {},
   "outputs": [
    {
     "name": "stdout",
     "output_type": "stream",
     "text": [
      "30\n"
     ]
    }
   ],
   "source": [
    "marks = 29\n",
    "marks = marks + 1\n",
    "print(marks)"
   ]
  },
  {
   "cell_type": "code",
   "execution_count": 70,
   "id": "6fa6d757",
   "metadata": {},
   "outputs": [
    {
     "name": "stdout",
     "output_type": "stream",
     "text": [
      "31\n"
     ]
    }
   ],
   "source": [
    "marks += 1\n",
    "print(marks)"
   ]
  },
  {
   "cell_type": "code",
   "execution_count": 71,
   "id": "f182e3ac",
   "metadata": {},
   "outputs": [
    {
     "name": "stdout",
     "output_type": "stream",
     "text": [
      "36\n"
     ]
    }
   ],
   "source": [
    "marks += 5\n",
    "print(marks)"
   ]
  },
  {
   "cell_type": "markdown",
   "id": "ef3b1582",
   "metadata": {},
   "source": [
    "## Shorthand assignment operators"
   ]
  },
  {
   "cell_type": "code",
   "execution_count": 76,
   "id": "2dcaee48",
   "metadata": {},
   "outputs": [
    {
     "name": "stdout",
     "output_type": "stream",
     "text": [
      "-3\n"
     ]
    }
   ],
   "source": [
    "a = 6\n",
    "a -= 9\n",
    "print(a)"
   ]
  },
  {
   "cell_type": "code",
   "execution_count": 77,
   "id": "2918fade",
   "metadata": {},
   "outputs": [
    {
     "name": "stdout",
     "output_type": "stream",
     "text": [
      "50\n"
     ]
    }
   ],
   "source": [
    "a = 10\n",
    "\n",
    "a *= 5\n",
    "print(a)"
   ]
  },
  {
   "cell_type": "code",
   "execution_count": 78,
   "id": "f83cf915",
   "metadata": {},
   "outputs": [
    {
     "name": "stdout",
     "output_type": "stream",
     "text": [
      "25.0\n"
     ]
    }
   ],
   "source": [
    "a /= 2\n",
    "print(a)"
   ]
  },
  {
   "cell_type": "code",
   "execution_count": 79,
   "id": "ad5c81c4",
   "metadata": {},
   "outputs": [
    {
     "name": "stdout",
     "output_type": "stream",
     "text": [
      "5.0\n"
     ]
    }
   ],
   "source": [
    "a //= 5\n",
    "print(a)"
   ]
  },
  {
   "cell_type": "code",
   "execution_count": 80,
   "id": "cc0552ae",
   "metadata": {},
   "outputs": [
    {
     "data": {
      "text/plain": [
       "3"
      ]
     },
     "execution_count": 80,
     "metadata": {},
     "output_type": "execute_result"
    }
   ],
   "source": [
    "10 // 3 # val is int => // will give int"
   ]
  },
  {
   "cell_type": "code",
   "execution_count": 81,
   "id": "91704102",
   "metadata": {},
   "outputs": [
    {
     "data": {
      "text/plain": [
       "3.0"
      ]
     },
     "execution_count": 81,
     "metadata": {},
     "output_type": "execute_result"
    }
   ],
   "source": [
    "10.5 // 3 # val is float => // will give float"
   ]
  },
  {
   "cell_type": "markdown",
   "id": "1232ba16",
   "metadata": {},
   "source": [
    "## Comparison"
   ]
  },
  {
   "cell_type": "code",
   "execution_count": 82,
   "id": "ad541625",
   "metadata": {},
   "outputs": [],
   "source": [
    "# mark sheet => immediately comparing with friends"
   ]
  },
  {
   "cell_type": "code",
   "execution_count": 83,
   "id": "94cf2ce2",
   "metadata": {},
   "outputs": [],
   "source": [
    "your_marks = 55\n",
    "friend_marks = 75"
   ]
  },
  {
   "cell_type": "code",
   "execution_count": 84,
   "id": "2af14c22",
   "metadata": {},
   "outputs": [
    {
     "data": {
      "text/plain": [
       "False"
      ]
     },
     "execution_count": 84,
     "metadata": {},
     "output_type": "execute_result"
    }
   ],
   "source": [
    "your_marks == friend_marks"
   ]
  },
  {
   "cell_type": "code",
   "execution_count": 85,
   "id": "1ee0649a",
   "metadata": {},
   "outputs": [
    {
     "data": {
      "text/plain": [
       "False"
      ]
     },
     "execution_count": 85,
     "metadata": {},
     "output_type": "execute_result"
    }
   ],
   "source": [
    "your_marks > friend_marks"
   ]
  },
  {
   "cell_type": "code",
   "execution_count": 86,
   "id": "9d98d9f3",
   "metadata": {},
   "outputs": [
    {
     "data": {
      "text/plain": [
       "True"
      ]
     },
     "execution_count": 86,
     "metadata": {},
     "output_type": "execute_result"
    }
   ],
   "source": [
    "friend_marks > your_marks"
   ]
  },
  {
   "cell_type": "code",
   "execution_count": 87,
   "id": "5f1acee9",
   "metadata": {},
   "outputs": [
    {
     "data": {
      "text/plain": [
       "True"
      ]
     },
     "execution_count": 87,
     "metadata": {},
     "output_type": "execute_result"
    }
   ],
   "source": [
    "6 < 99"
   ]
  },
  {
   "cell_type": "code",
   "execution_count": 88,
   "id": "a47964e8",
   "metadata": {},
   "outputs": [
    {
     "data": {
      "text/plain": [
       "True"
      ]
     },
     "execution_count": 88,
     "metadata": {},
     "output_type": "execute_result"
    }
   ],
   "source": [
    "5 <= 5"
   ]
  },
  {
   "cell_type": "markdown",
   "id": "c5e161b6",
   "metadata": {},
   "source": [
    "## Logical"
   ]
  },
  {
   "cell_type": "code",
   "execution_count": 89,
   "id": "c0b66e6e",
   "metadata": {},
   "outputs": [
    {
     "data": {
      "text/plain": [
       "True"
      ]
     },
     "execution_count": 89,
     "metadata": {},
     "output_type": "execute_result"
    }
   ],
   "source": [
    "x = True\n",
    "y = True\n",
    "\n",
    "x and y"
   ]
  },
  {
   "cell_type": "code",
   "execution_count": 90,
   "id": "bb6f49f7",
   "metadata": {},
   "outputs": [
    {
     "data": {
      "text/plain": [
       "False"
      ]
     },
     "execution_count": 90,
     "metadata": {},
     "output_type": "execute_result"
    }
   ],
   "source": [
    "True and False"
   ]
  },
  {
   "cell_type": "code",
   "execution_count": 91,
   "id": "529bdb99",
   "metadata": {},
   "outputs": [
    {
     "data": {
      "text/plain": [
       "False"
      ]
     },
     "execution_count": 91,
     "metadata": {},
     "output_type": "execute_result"
    }
   ],
   "source": [
    "False and True"
   ]
  },
  {
   "cell_type": "code",
   "execution_count": 92,
   "id": "5c8cb60f",
   "metadata": {},
   "outputs": [
    {
     "data": {
      "text/plain": [
       "False"
      ]
     },
     "execution_count": 92,
     "metadata": {},
     "output_type": "execute_result"
    }
   ],
   "source": [
    "False and False"
   ]
  },
  {
   "cell_type": "code",
   "execution_count": 93,
   "id": "576e76a8",
   "metadata": {},
   "outputs": [
    {
     "data": {
      "text/plain": [
       "True"
      ]
     },
     "execution_count": 93,
     "metadata": {},
     "output_type": "execute_result"
    }
   ],
   "source": [
    "(70 > 40) and (70 > 60)"
   ]
  },
  {
   "cell_type": "code",
   "execution_count": 94,
   "id": "c0788133",
   "metadata": {},
   "outputs": [
    {
     "data": {
      "text/plain": [
       "False"
      ]
     },
     "execution_count": 94,
     "metadata": {},
     "output_type": "execute_result"
    }
   ],
   "source": [
    "(70 > 80) and (70 > 50)"
   ]
  },
  {
   "cell_type": "markdown",
   "id": "d17dde1e",
   "metadata": {},
   "source": [
    "## Quiz"
   ]
  },
  {
   "cell_type": "code",
   "execution_count": 95,
   "id": "9c85f7da",
   "metadata": {},
   "outputs": [
    {
     "name": "stdout",
     "output_type": "stream",
     "text": [
      "True\n"
     ]
    }
   ],
   "source": [
    "print(3 > 1 and -1 < 1)"
   ]
  },
  {
   "cell_type": "code",
   "execution_count": 96,
   "id": "a9bd7813",
   "metadata": {},
   "outputs": [
    {
     "data": {
      "text/plain": [
       "True"
      ]
     },
     "execution_count": 96,
     "metadata": {},
     "output_type": "execute_result"
    }
   ],
   "source": [
    "True or False"
   ]
  },
  {
   "cell_type": "code",
   "execution_count": 97,
   "id": "1fd05280",
   "metadata": {},
   "outputs": [
    {
     "data": {
      "text/plain": [
       "False"
      ]
     },
     "execution_count": 97,
     "metadata": {},
     "output_type": "execute_result"
    }
   ],
   "source": [
    "False or False"
   ]
  },
  {
   "cell_type": "code",
   "execution_count": 98,
   "id": "f698380b",
   "metadata": {},
   "outputs": [
    {
     "data": {
      "text/plain": [
       "True"
      ]
     },
     "execution_count": 98,
     "metadata": {},
     "output_type": "execute_result"
    }
   ],
   "source": [
    "(3 > 5) or (5 < 7)"
   ]
  },
  {
   "cell_type": "markdown",
   "id": "d64b1493",
   "metadata": {},
   "source": [
    "## not equal to (!=)"
   ]
  },
  {
   "cell_type": "code",
   "execution_count": 99,
   "id": "2604d6a5",
   "metadata": {},
   "outputs": [
    {
     "name": "stdout",
     "output_type": "stream",
     "text": [
      "True\n"
     ]
    }
   ],
   "source": [
    "print(25 > 50 or 1 != 2)"
   ]
  },
  {
   "cell_type": "code",
   "execution_count": 100,
   "id": "60742920",
   "metadata": {},
   "outputs": [
    {
     "data": {
      "text/plain": [
       "False"
      ]
     },
     "execution_count": 100,
     "metadata": {},
     "output_type": "execute_result"
    }
   ],
   "source": [
    "not True"
   ]
  },
  {
   "cell_type": "code",
   "execution_count": 101,
   "id": "c1a7f711",
   "metadata": {},
   "outputs": [
    {
     "data": {
      "text/plain": [
       "True"
      ]
     },
     "execution_count": 101,
     "metadata": {},
     "output_type": "execute_result"
    }
   ],
   "source": [
    "not False"
   ]
  }
 ],
 "metadata": {
  "kernelspec": {
   "display_name": "Python 3 (ipykernel)",
   "language": "python",
   "name": "python3"
  },
  "language_info": {
   "codemirror_mode": {
    "name": "ipython",
    "version": 3
   },
   "file_extension": ".py",
   "mimetype": "text/x-python",
   "name": "python",
   "nbconvert_exporter": "python",
   "pygments_lexer": "ipython3",
   "version": "3.9.12"
  }
 },
 "nbformat": 4,
 "nbformat_minor": 5
}
